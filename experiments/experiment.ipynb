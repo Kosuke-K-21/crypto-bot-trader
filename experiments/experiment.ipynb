{
 "cells": [
  {
   "cell_type": "markdown",
   "metadata": {},
   "source": [
    "# Training"
   ]
  },
  {
   "cell_type": "code",
   "execution_count": 14,
   "metadata": {},
   "outputs": [
    {
     "data": {
      "text/html": [
       "<div><style>\n",
       ".dataframe > thead > tr,\n",
       ".dataframe > tbody > tr {\n",
       "  text-align: right;\n",
       "  white-space: pre-wrap;\n",
       "}\n",
       "</style>\n",
       "<small>shape: (5, 57)</small><table border=\"1\" class=\"dataframe\"><thead><tr><th>datetime</th><th>timestamp</th><th>open</th><th>high</th><th>low</th><th>close</th><th>volume</th><th>turnover</th><th>month</th><th>day_of_year</th><th>hour</th><th>day</th><th>weekday</th><th>sin(month)</th><th>cos(month)</th><th>sin(day_of_year)</th><th>cos(day_of_year)</th><th>sin(hour)</th><th>cos(hour)</th><th>log_return</th><th>target</th><th>log_return_1</th><th>log_return_2</th><th>log_return_3</th><th>log_return_rolling_5</th><th>log_return_rolling_10</th><th>log_return_rolling_20</th><th>log_return_rolling_30</th><th>log_return_min_5</th><th>log_return_min_10</th><th>log_return_min_20</th><th>log_return_min_30</th><th>log_return_max_5</th><th>log_return_max_10</th><th>log_return_max_20</th><th>log_return_max_30</th><th>log_return_std_5</th><th>log_return_std_10</th><th>log_return_std_20</th><th>log_return_std_30</th><th>log_return_sum_2</th><th>log_return_sum_3</th><th>log_return_sum_4</th><th>log_return_sum_5</th><th>log_return_distance_5</th><th>log_return_distance_10</th><th>log_return_distance_20</th><th>log_return_distance_30</th><th>log_return_positive_5</th><th>log_return_positive_10</th><th>log_return_positive_20</th><th>log_return_positive_30</th><th>volume_rolling_5</th><th>volume_rolling_10</th><th>volume_rolling_20</th><th>volume_rolling_30</th><th>num_week</th></tr><tr><td>datetime[μs]</td><td>i64</td><td>f64</td><td>f64</td><td>f64</td><td>f64</td><td>f64</td><td>f64</td><td>i64</td><td>i64</td><td>f64</td><td>i64</td><td>i64</td><td>f64</td><td>f64</td><td>f64</td><td>f64</td><td>f64</td><td>f64</td><td>f64</td><td>f64</td><td>f64</td><td>f64</td><td>f64</td><td>f64</td><td>f64</td><td>f64</td><td>f64</td><td>f64</td><td>f64</td><td>f64</td><td>f64</td><td>f64</td><td>f64</td><td>f64</td><td>f64</td><td>f64</td><td>f64</td><td>f64</td><td>f64</td><td>f64</td><td>f64</td><td>f64</td><td>f64</td><td>f64</td><td>f64</td><td>f64</td><td>f64</td><td>f64</td><td>f64</td><td>f64</td><td>f64</td><td>f64</td><td>f64</td><td>f64</td><td>f64</td><td>i64</td></tr></thead><tbody><tr><td>2023-06-05 00:00:00</td><td>1685890800000</td><td>27226.8</td><td>27239.1</td><td>27182.5</td><td>27196.2</td><td>6.623547</td><td>2.0475e7</td><td>6</td><td>156</td><td>0.0</td><td>5</td><td>1</td><td>1.2246e-16</td><td>-1.0</td><td>0.447094</td><td>-0.894487</td><td>0.0</td><td>1.0</td><td>-0.001125</td><td>-0.001144</td><td>0.001525</td><td>-0.001827</td><td>0.000779</td><td>-0.000027</td><td>-0.000076</td><td>0.000311</td><td>0.000183</td><td>-0.001827</td><td>-0.001827</td><td>-0.001827</td><td>-0.001828</td><td>0.001525</td><td>0.001538</td><td>0.00182</td><td>0.002214</td><td>0.001396</td><td>0.001148</td><td>0.001067</td><td>0.00117</td><td>0.000401</td><td>-0.001426</td><td>-0.000647</td><td>-0.000136</td><td>-0.001097</td><td>-0.001048</td><td>-0.001436</td><td>-0.001307</td><td>3.0</td><td>4.0</td><td>13.0</td><td>17.0</td><td>1156.1736</td><td>846.7071</td><td>901.3471</td><td>811.8121</td><td>0</td></tr><tr><td>2023-06-05 00:30:00</td><td>1685892600000</td><td>27196.2</td><td>27216.3</td><td>27165.0</td><td>27165.1</td><td>6.991563</td><td>2.9562e7</td><td>6</td><td>156</td><td>0.5</td><td>5</td><td>1</td><td>1.2246e-16</td><td>-1.0</td><td>0.447094</td><td>-0.894487</td><td>0.130526</td><td>0.991445</td><td>-0.001144</td><td>-0.000125</td><td>-0.001125</td><td>0.001525</td><td>-0.001827</td><td>-0.000358</td><td>-0.000168</td><td>0.000248</td><td>0.000205</td><td>-0.001827</td><td>-0.001827</td><td>-0.001827</td><td>-0.001827</td><td>0.001525</td><td>0.001538</td><td>0.00182</td><td>0.002214</td><td>0.001432</td><td>0.001197</td><td>0.001115</td><td>0.001136</td><td>-0.002269</td><td>-0.000743</td><td>-0.00257</td><td>-0.001791</td><td>-0.000786</td><td>-0.000976</td><td>-0.001393</td><td>-0.00135</td><td>2.0</td><td>4.0</td><td>12.0</td><td>17.0</td><td>1293.3936</td><td>920.7017</td><td>946.33495</td><td>831.639467</td><td>0</td></tr><tr><td>2023-06-05 01:00:00</td><td>1685894400000</td><td>27165.1</td><td>27188.1</td><td>27142.2</td><td>27161.7</td><td>7.318441</td><td>4.0960e7</td><td>6</td><td>156</td><td>1.0</td><td>5</td><td>1</td><td>1.2246e-16</td><td>-1.0</td><td>0.447094</td><td>-0.894487</td><td>0.258819</td><td>0.965926</td><td>-0.000125</td><td>-0.000059</td><td>-0.001144</td><td>-0.001125</td><td>0.001525</td><td>-0.000539</td><td>-0.000159</td><td>0.000169</td><td>0.000129</td><td>-0.001827</td><td>-0.001827</td><td>-0.001827</td><td>-0.001827</td><td>0.001525</td><td>0.001538</td><td>0.00182</td><td>0.002214</td><td>0.001304</td><td>0.001197</td><td>0.00108</td><td>0.001074</td><td>-0.001269</td><td>-0.002394</td><td>-0.000868</td><td>-0.002695</td><td>0.000414</td><td>0.000033</td><td>-0.000294</td><td>-0.000254</td><td>1.0</td><td>4.0</td><td>11.0</td><td>16.0</td><td>1165.7786</td><td>1016.4541</td><td>987.6352</td><td>835.9882</td><td>0</td></tr><tr><td>2023-06-05 01:30:00</td><td>1685896200000</td><td>27161.7</td><td>27187.1</td><td>27154.1</td><td>27160.1</td><td>6.216746</td><td>1.3616e7</td><td>6</td><td>156</td><td>1.5</td><td>5</td><td>1</td><td>1.2246e-16</td><td>-1.0</td><td>0.447094</td><td>-0.894487</td><td>0.382683</td><td>0.92388</td><td>-0.000059</td><td>0.0011</td><td>-0.000125</td><td>-0.001144</td><td>-0.001125</td><td>-0.000185</td><td>-0.00011</td><td>0.000075</td><td>0.000156</td><td>-0.001144</td><td>-0.001827</td><td>-0.001827</td><td>-0.001827</td><td>0.001525</td><td>0.001538</td><td>0.001609</td><td>0.002214</td><td>0.001089</td><td>0.00119</td><td>0.001008</td><td>0.001057</td><td>-0.000184</td><td>-0.001328</td><td>-0.002453</td><td>-0.000927</td><td>0.000127</td><td>0.000051</td><td>-0.000134</td><td>-0.000215</td><td>1.0</td><td>4.0</td><td>10.0</td><td>16.0</td><td>970.8398</td><td>994.4641</td><td>948.3365</td><td>839.8945</td><td>0</td></tr><tr><td>2023-06-05 02:00:00</td><td>1685898000000</td><td>27160.1</td><td>27205.0</td><td>27156.2</td><td>27190.0</td><td>6.45537</td><td>1.7293e7</td><td>6</td><td>156</td><td>2.0</td><td>5</td><td>1</td><td>1.2246e-16</td><td>-1.0</td><td>0.447094</td><td>-0.894487</td><td>0.5</td><td>0.866025</td><td>0.0011</td><td>-0.000846</td><td>-0.000059</td><td>-0.000125</td><td>-0.001144</td><td>-0.000271</td><td>0.000117</td><td>0.000099</td><td>0.000203</td><td>-0.001144</td><td>-0.001827</td><td>-0.001827</td><td>-0.001827</td><td>0.0011</td><td>0.001538</td><td>0.001609</td><td>0.002214</td><td>0.000927</td><td>0.001181</td><td>0.001027</td><td>0.001068</td><td>0.001041</td><td>0.000916</td><td>-0.000228</td><td>-0.001353</td><td>0.001371</td><td>0.000983</td><td>0.001001</td><td>0.000898</td><td>1.0</td><td>5.0</td><td>10.0</td><td>17.0</td><td>897.0122</td><td>1004.6555</td><td>914.11245</td><td>847.216967</td><td>0</td></tr></tbody></table></div>"
      ],
      "text/plain": [
       "shape: (5, 57)\n",
       "┌────────────┬────────────┬─────────┬─────────┬───┬────────────┬────────────┬───────────┬──────────┐\n",
       "│ datetime   ┆ timestamp  ┆ open    ┆ high    ┆ … ┆ volume_rol ┆ volume_rol ┆ volume_ro ┆ num_week │\n",
       "│ ---        ┆ ---        ┆ ---     ┆ ---     ┆   ┆ ling_10    ┆ ling_20    ┆ lling_30  ┆ ---      │\n",
       "│ datetime[μ ┆ i64        ┆ f64     ┆ f64     ┆   ┆ ---        ┆ ---        ┆ ---       ┆ i64      │\n",
       "│ s]         ┆            ┆         ┆         ┆   ┆ f64        ┆ f64        ┆ f64       ┆          │\n",
       "╞════════════╪════════════╪═════════╪═════════╪═══╪════════════╪════════════╪═══════════╪══════════╡\n",
       "│ 2023-06-05 ┆ 1685890800 ┆ 27226.8 ┆ 27239.1 ┆ … ┆ 846.7071   ┆ 901.3471   ┆ 811.8121  ┆ 0        │\n",
       "│ 00:00:00   ┆ 000        ┆         ┆         ┆   ┆            ┆            ┆           ┆          │\n",
       "│ 2023-06-05 ┆ 1685892600 ┆ 27196.2 ┆ 27216.3 ┆ … ┆ 920.7017   ┆ 946.33495  ┆ 831.63946 ┆ 0        │\n",
       "│ 00:30:00   ┆ 000        ┆         ┆         ┆   ┆            ┆            ┆ 7         ┆          │\n",
       "│ 2023-06-05 ┆ 1685894400 ┆ 27165.1 ┆ 27188.1 ┆ … ┆ 1016.4541  ┆ 987.6352   ┆ 835.9882  ┆ 0        │\n",
       "│ 01:00:00   ┆ 000        ┆         ┆         ┆   ┆            ┆            ┆           ┆          │\n",
       "│ 2023-06-05 ┆ 1685896200 ┆ 27161.7 ┆ 27187.1 ┆ … ┆ 994.4641   ┆ 948.3365   ┆ 839.8945  ┆ 0        │\n",
       "│ 01:30:00   ┆ 000        ┆         ┆         ┆   ┆            ┆            ┆           ┆          │\n",
       "│ 2023-06-05 ┆ 1685898000 ┆ 27160.1 ┆ 27205.0 ┆ … ┆ 1004.6555  ┆ 914.11245  ┆ 847.21696 ┆ 0        │\n",
       "│ 02:00:00   ┆ 000        ┆         ┆         ┆   ┆            ┆            ┆ 7         ┆          │\n",
       "└────────────┴────────────┴─────────┴─────────┴───┴────────────┴────────────┴───────────┴──────────┘"
      ]
     },
     "execution_count": 14,
     "metadata": {},
     "output_type": "execute_result"
    }
   ],
   "source": [
    "df = pl.read_csv(\"processed_data.csv\")\n",
    "df = df.with_columns(pl.col(\"datetime\").str.strptime(pl.Datetime))\n",
    "df.head()"
   ]
  },
  {
   "cell_type": "code",
   "execution_count": 13,
   "metadata": {},
   "outputs": [
    {
     "data": {
      "text/html": [
       "<div><style>\n",
       ".dataframe > thead > tr,\n",
       ".dataframe > tbody > tr {\n",
       "  text-align: right;\n",
       "  white-space: pre-wrap;\n",
       "}\n",
       "</style>\n",
       "<small>shape: (5, 57)</small><table border=\"1\" class=\"dataframe\"><thead><tr><th>datetime</th><th>timestamp</th><th>open</th><th>high</th><th>low</th><th>close</th><th>volume</th><th>turnover</th><th>month</th><th>day_of_year</th><th>hour</th><th>day</th><th>weekday</th><th>sin(month)</th><th>cos(month)</th><th>sin(day_of_year)</th><th>cos(day_of_year)</th><th>sin(hour)</th><th>cos(hour)</th><th>log_return</th><th>target</th><th>log_return_1</th><th>log_return_2</th><th>log_return_3</th><th>log_return_rolling_5</th><th>log_return_rolling_10</th><th>log_return_rolling_20</th><th>log_return_rolling_30</th><th>log_return_min_5</th><th>log_return_min_10</th><th>log_return_min_20</th><th>log_return_min_30</th><th>log_return_max_5</th><th>log_return_max_10</th><th>log_return_max_20</th><th>log_return_max_30</th><th>log_return_std_5</th><th>log_return_std_10</th><th>log_return_std_20</th><th>log_return_std_30</th><th>log_return_sum_2</th><th>log_return_sum_3</th><th>log_return_sum_4</th><th>log_return_sum_5</th><th>log_return_distance_5</th><th>log_return_distance_10</th><th>log_return_distance_20</th><th>log_return_distance_30</th><th>log_return_positive_5</th><th>log_return_positive_10</th><th>log_return_positive_20</th><th>log_return_positive_30</th><th>volume_rolling_5</th><th>volume_rolling_10</th><th>volume_rolling_20</th><th>volume_rolling_30</th><th>num_week</th></tr><tr><td>datetime[μs]</td><td>i64</td><td>f64</td><td>f64</td><td>f64</td><td>f64</td><td>f64</td><td>f64</td><td>i64</td><td>i64</td><td>f64</td><td>i64</td><td>i64</td><td>f64</td><td>f64</td><td>f64</td><td>f64</td><td>f64</td><td>f64</td><td>f64</td><td>f64</td><td>f64</td><td>f64</td><td>f64</td><td>f64</td><td>f64</td><td>f64</td><td>f64</td><td>f64</td><td>f64</td><td>f64</td><td>f64</td><td>f64</td><td>f64</td><td>f64</td><td>f64</td><td>f64</td><td>f64</td><td>f64</td><td>f64</td><td>f64</td><td>f64</td><td>f64</td><td>f64</td><td>f64</td><td>f64</td><td>f64</td><td>f64</td><td>f64</td><td>f64</td><td>f64</td><td>f64</td><td>f64</td><td>f64</td><td>f64</td><td>f64</td><td>i64</td></tr></thead><tbody><tr><td>2024-07-23 20:00:00</td><td>1721732400000</td><td>66833.6</td><td>66834.3</td><td>66403.2</td><td>66534.3</td><td>8.167429</td><td>2.3473e8</td><td>7</td><td>205</td><td>20.0</td><td>23</td><td>2</td><td>-0.5</td><td>-0.866025</td><td>-0.368763</td><td>-0.929523</td><td>-0.866025</td><td>0.5</td><td>-0.004488</td><td>0.001599</td><td>-0.001951</td><td>0.000919</td><td>-0.000916</td><td>-0.000985</td><td>-0.000206</td><td>-0.0005</td><td>-0.000685</td><td>-0.004488</td><td>-0.004488</td><td>-0.005966</td><td>-0.005966</td><td>0.001512</td><td>0.00375</td><td>0.004014</td><td>0.004014</td><td>0.002402</td><td>0.002726</td><td>0.00305</td><td>0.002946</td><td>-0.006439</td><td>-0.00552</td><td>-0.006436</td><td>-0.004924</td><td>-0.003504</td><td>-0.004282</td><td>-0.003988</td><td>-0.003804</td><td>2.0</td><td>5.0</td><td>9.0</td><td>14.0</td><td>1656.3346</td><td>1800.3506</td><td>1980.8405</td><td>1894.7615</td><td>59</td></tr><tr><td>2024-07-23 20:30:00</td><td>1721734200000</td><td>66534.3</td><td>66726.2</td><td>66462.8</td><td>66640.8</td><td>7.204815</td><td>8.9716e7</td><td>7</td><td>205</td><td>20.5</td><td>23</td><td>2</td><td>-0.5</td><td>-0.866025</td><td>-0.368763</td><td>-0.929523</td><td>-0.793353</td><td>0.608761</td><td>0.001599</td><td>-0.002303</td><td>-0.004488</td><td>-0.001951</td><td>0.000919</td><td>-0.000967</td><td>0.000207</td><td>-0.000548</td><td>-0.000721</td><td>-0.004488</td><td>-0.004488</td><td>-0.005966</td><td>-0.005966</td><td>0.001599</td><td>0.00375</td><td>0.004014</td><td>0.004014</td><td>0.002425</td><td>0.002646</td><td>0.003006</td><td>0.00291</td><td>-0.002889</td><td>-0.00484</td><td>-0.003921</td><td>-0.004837</td><td>0.002567</td><td>0.001392</td><td>0.002147</td><td>0.00232</td><td>2.0</td><td>6.0</td><td>9.0</td><td>14.0</td><td>1721.6862</td><td>1742.8497</td><td>2006.47135</td><td>1871.879433</td><td>59</td></tr><tr><td>2024-07-23 21:00:00</td><td>1721736000000</td><td>66640.8</td><td>66719.5</td><td>66452.0</td><td>66487.5</td><td>7.343016</td><td>1.0290e8</td><td>7</td><td>205</td><td>21.0</td><td>23</td><td>2</td><td>-0.5</td><td>-0.866025</td><td>-0.368763</td><td>-0.929523</td><td>-0.707107</td><td>0.707107</td><td>-0.002303</td><td>-0.000256</td><td>0.001599</td><td>-0.004488</td><td>-0.001951</td><td>-0.001245</td><td>0.000267</td><td>-0.000664</td><td>-0.000603</td><td>-0.004488</td><td>-0.004488</td><td>-0.005966</td><td>-0.005966</td><td>0.001599</td><td>0.00375</td><td>0.004014</td><td>0.004014</td><td>0.002495</td><td>0.002574</td><td>0.003028</td><td>0.002764</td><td>-0.000704</td><td>-0.005192</td><td>-0.007143</td><td>-0.006224</td><td>-0.001058</td><td>-0.00257</td><td>-0.001639</td><td>-0.0017</td><td>2.0</td><td>6.0</td><td>8.0</td><td>14.0</td><td>1653.4358</td><td>1724.6766</td><td>2037.82815</td><td>1854.086833</td><td>59</td></tr><tr><td>2024-07-23 21:30:00</td><td>1721737800000</td><td>66487.5</td><td>66501.1</td><td>66333.0</td><td>66470.5</td><td>7.70802</td><td>1.4783e8</td><td>7</td><td>205</td><td>21.5</td><td>23</td><td>2</td><td>-0.5</td><td>-0.866025</td><td>-0.368763</td><td>-0.929523</td><td>-0.608761</td><td>0.793353</td><td>-0.000256</td><td>-0.001161</td><td>-0.002303</td><td>0.001599</td><td>-0.004488</td><td>-0.00148</td><td>-0.000134</td><td>-0.000854</td><td>-0.000668</td><td>-0.004488</td><td>-0.004488</td><td>-0.005966</td><td>-0.005966</td><td>0.001599</td><td>0.002546</td><td>0.004014</td><td>0.004014</td><td>0.002288</td><td>0.002265</td><td>0.002866</td><td>0.002731</td><td>-0.002559</td><td>-0.000959</td><td>-0.005448</td><td>-0.007398</td><td>0.001224</td><td>-0.000122</td><td>0.000598</td><td>0.000413</td><td>1.0</td><td>5.0</td><td>7.0</td><td>13.0</td><td>1876.7402</td><td>1786.28</td><td>2071.0278</td><td>1903.888733</td><td>59</td></tr><tr><td>2024-07-23 22:00:00</td><td>1721739600000</td><td>66470.5</td><td>66566.0</td><td>66342.7</td><td>66393.4</td><td>6.443909</td><td>4.1797e7</td><td>7</td><td>205</td><td>22.0</td><td>23</td><td>2</td><td>-0.5</td><td>-0.866025</td><td>-0.368763</td><td>-0.929523</td><td>-0.5</td><td>0.866025</td><td>-0.001161</td><td>null</td><td>-0.000256</td><td>-0.002303</td><td>0.001599</td><td>-0.001322</td><td>-0.000504</td><td>-0.000868</td><td>-0.000587</td><td>-0.004488</td><td>-0.004488</td><td>-0.005966</td><td>-0.005966</td><td>0.001599</td><td>0.002002</td><td>0.004014</td><td>0.004014</td><td>0.002274</td><td>0.002073</td><td>0.002867</td><td>0.002677</td><td>-0.001416</td><td>-0.003719</td><td>-0.00212</td><td>-0.006608</td><td>0.000161</td><td>-0.000656</td><td>-0.000293</td><td>-0.000573</td><td>1.0</td><td>4.0</td><td>7.0</td><td>13.0</td><td>1854.1052</td><td>1688.7285</td><td>2069.9101</td><td>1857.908733</td><td>59</td></tr></tbody></table></div>"
      ],
      "text/plain": [
       "shape: (5, 57)\n",
       "┌────────────┬────────────┬─────────┬─────────┬───┬────────────┬────────────┬───────────┬──────────┐\n",
       "│ datetime   ┆ timestamp  ┆ open    ┆ high    ┆ … ┆ volume_rol ┆ volume_rol ┆ volume_ro ┆ num_week │\n",
       "│ ---        ┆ ---        ┆ ---     ┆ ---     ┆   ┆ ling_10    ┆ ling_20    ┆ lling_30  ┆ ---      │\n",
       "│ datetime[μ ┆ i64        ┆ f64     ┆ f64     ┆   ┆ ---        ┆ ---        ┆ ---       ┆ i64      │\n",
       "│ s]         ┆            ┆         ┆         ┆   ┆ f64        ┆ f64        ┆ f64       ┆          │\n",
       "╞════════════╪════════════╪═════════╪═════════╪═══╪════════════╪════════════╪═══════════╪══════════╡\n",
       "│ 2024-07-23 ┆ 1721732400 ┆ 66833.6 ┆ 66834.3 ┆ … ┆ 1800.3506  ┆ 1980.8405  ┆ 1894.7615 ┆ 59       │\n",
       "│ 20:00:00   ┆ 000        ┆         ┆         ┆   ┆            ┆            ┆           ┆          │\n",
       "│ 2024-07-23 ┆ 1721734200 ┆ 66534.3 ┆ 66726.2 ┆ … ┆ 1742.8497  ┆ 2006.47135 ┆ 1871.8794 ┆ 59       │\n",
       "│ 20:30:00   ┆ 000        ┆         ┆         ┆   ┆            ┆            ┆ 33        ┆          │\n",
       "│ 2024-07-23 ┆ 1721736000 ┆ 66640.8 ┆ 66719.5 ┆ … ┆ 1724.6766  ┆ 2037.82815 ┆ 1854.0868 ┆ 59       │\n",
       "│ 21:00:00   ┆ 000        ┆         ┆         ┆   ┆            ┆            ┆ 33        ┆          │\n",
       "│ 2024-07-23 ┆ 1721737800 ┆ 66487.5 ┆ 66501.1 ┆ … ┆ 1786.28    ┆ 2071.0278  ┆ 1903.8887 ┆ 59       │\n",
       "│ 21:30:00   ┆ 000        ┆         ┆         ┆   ┆            ┆            ┆ 33        ┆          │\n",
       "│ 2024-07-23 ┆ 1721739600 ┆ 66470.5 ┆ 66566.0 ┆ … ┆ 1688.7285  ┆ 2069.9101  ┆ 1857.9087 ┆ 59       │\n",
       "│ 22:00:00   ┆ 000        ┆         ┆         ┆   ┆            ┆            ┆ 33        ┆          │\n",
       "└────────────┴────────────┴─────────┴─────────┴───┴────────────┴────────────┴───────────┴──────────┘"
      ]
     },
     "execution_count": 13,
     "metadata": {},
     "output_type": "execute_result"
    }
   ],
   "source": [
    "df.tail()"
   ]
  },
  {
   "cell_type": "code",
   "execution_count": 15,
   "metadata": {},
   "outputs": [],
   "source": [
    "df = df.with_columns(\n",
    "    (pl.when((pl.col(\"weekday\")  == 1) & (pl.col(\"weekday\").shift(1) == 7)).then(1).otherwise(0)).cum_sum().alias(\"num_week\")\n",
    ")\n",
    "\n",
    "df_copy = df.clone()\n",
    "\n",
    "df = df.filter((pl.col(\"num_week\") > 0) & (pl.col(\"num_week\") < 60))\n",
    "df = df.with_columns(\n",
    "    (pl.col(\"num_week\") - 1).alias(\"num_week\")\n",
    ")"
   ]
  },
  {
   "cell_type": "code",
   "execution_count": 16,
   "metadata": {},
   "outputs": [
    {
     "data": {
      "text/html": [
       "<div><style>\n",
       ".dataframe > thead > tr,\n",
       ".dataframe > tbody > tr {\n",
       "  text-align: right;\n",
       "  white-space: pre-wrap;\n",
       "}\n",
       "</style>\n",
       "<small>shape: (19_581, 57)</small><table border=\"1\" class=\"dataframe\"><thead><tr><th>datetime</th><th>timestamp</th><th>open</th><th>high</th><th>low</th><th>close</th><th>volume</th><th>turnover</th><th>month</th><th>day_of_year</th><th>hour</th><th>day</th><th>weekday</th><th>sin(month)</th><th>cos(month)</th><th>sin(day_of_year)</th><th>cos(day_of_year)</th><th>sin(hour)</th><th>cos(hour)</th><th>log_return</th><th>target</th><th>log_return_1</th><th>log_return_2</th><th>log_return_3</th><th>log_return_rolling_5</th><th>log_return_rolling_10</th><th>log_return_rolling_20</th><th>log_return_rolling_30</th><th>log_return_min_5</th><th>log_return_min_10</th><th>log_return_min_20</th><th>log_return_min_30</th><th>log_return_max_5</th><th>log_return_max_10</th><th>log_return_max_20</th><th>log_return_max_30</th><th>log_return_std_5</th><th>log_return_std_10</th><th>log_return_std_20</th><th>log_return_std_30</th><th>log_return_sum_2</th><th>log_return_sum_3</th><th>log_return_sum_4</th><th>log_return_sum_5</th><th>log_return_distance_5</th><th>log_return_distance_10</th><th>log_return_distance_20</th><th>log_return_distance_30</th><th>log_return_positive_5</th><th>log_return_positive_10</th><th>log_return_positive_20</th><th>log_return_positive_30</th><th>volume_rolling_5</th><th>volume_rolling_10</th><th>volume_rolling_20</th><th>volume_rolling_30</th><th>num_week</th></tr><tr><td>datetime[μs]</td><td>i64</td><td>f64</td><td>f64</td><td>f64</td><td>f64</td><td>f64</td><td>f64</td><td>i64</td><td>i64</td><td>f64</td><td>i64</td><td>i64</td><td>f64</td><td>f64</td><td>f64</td><td>f64</td><td>f64</td><td>f64</td><td>f64</td><td>f64</td><td>f64</td><td>f64</td><td>f64</td><td>f64</td><td>f64</td><td>f64</td><td>f64</td><td>f64</td><td>f64</td><td>f64</td><td>f64</td><td>f64</td><td>f64</td><td>f64</td><td>f64</td><td>f64</td><td>f64</td><td>f64</td><td>f64</td><td>f64</td><td>f64</td><td>f64</td><td>f64</td><td>f64</td><td>f64</td><td>f64</td><td>f64</td><td>f64</td><td>f64</td><td>f64</td><td>f64</td><td>f64</td><td>f64</td><td>f64</td><td>f64</td><td>i32</td></tr></thead><tbody><tr><td>2023-06-12 00:00:00</td><td>1686495600000</td><td>25746.9</td><td>25766.7</td><td>25728.8</td><td>25757.3</td><td>6.126279</td><td>1.1785e7</td><td>6</td><td>163</td><td>0.0</td><td>12</td><td>1</td><td>1.2246e-16</td><td>-1.0</td><td>0.336637</td><td>-0.941634</td><td>0.0</td><td>1.0</td><td>0.000404</td><td>-0.000656</td><td>0.000894</td><td>0.001085</td><td>-0.0018</td><td>0.000134</td><td>0.000152</td><td>0.00005</td><td>-0.000075</td><td>-0.0018</td><td>-0.0018</td><td>-0.002095</td><td>-0.002913</td><td>0.001085</td><td>0.001969</td><td>0.002922</td><td>0.002922</td><td>0.001151</td><td>0.001123</td><td>0.001256</td><td>0.001376</td><td>0.001298</td><td>0.002383</td><td>0.000583</td><td>0.000668</td><td>0.00027</td><td>0.000252</td><td>0.000354</td><td>0.000479</td><td>4.0</td><td>6.0</td><td>11.0</td><td>16.0</td><td>957.3634</td><td>939.6116</td><td>825.5607</td><td>905.544767</td><td>0</td></tr><tr><td>2023-06-12 00:30:00</td><td>1686497400000</td><td>25757.3</td><td>25758.5</td><td>25722.5</td><td>25740.4</td><td>6.02941</td><td>1.0695e7</td><td>6</td><td>163</td><td>0.5</td><td>12</td><td>1</td><td>1.2246e-16</td><td>-1.0</td><td>0.336637</td><td>-0.941634</td><td>0.130526</td><td>0.991445</td><td>-0.000656</td><td>0.003246</td><td>0.000404</td><td>0.000894</td><td>0.001085</td><td>-0.000015</td><td>-0.000111</td><td>-0.000129</td><td>2.5900e-7</td><td>-0.0018</td><td>-0.0018</td><td>-0.002095</td><td>-0.002257</td><td>0.001085</td><td>0.001085</td><td>0.001969</td><td>0.002922</td><td>0.001205</td><td>0.000943</td><td>0.001066</td><td>0.001274</td><td>-0.000252</td><td>0.000641</td><td>0.001726</td><td>-0.000074</td><td>-0.000642</td><td>-0.000545</td><td>-0.000528</td><td>-0.000657</td><td>3.0</td><td>5.0</td><td>10.0</td><td>16.0</td><td>919.723</td><td>867.1479</td><td>767.19175</td><td>885.644667</td><td>0</td></tr><tr><td>2023-06-12 01:00:00</td><td>1686499200000</td><td>25740.4</td><td>25890.5</td><td>25731.4</td><td>25824.1</td><td>8.011632</td><td>7.7890e7</td><td>6</td><td>163</td><td>1.0</td><td>12</td><td>1</td><td>1.2246e-16</td><td>-1.0</td><td>0.336637</td><td>-0.941634</td><td>0.258819</td><td>0.965926</td><td>0.003246</td><td>0.001215</td><td>-0.000656</td><td>0.000404</td><td>0.000894</td><td>0.000995</td><td>0.000149</td><td>0.000087</td><td>0.00008</td><td>-0.000656</td><td>-0.0018</td><td>-0.002095</td><td>-0.002257</td><td>0.003246</td><td>0.003246</td><td>0.003246</td><td>0.003246</td><td>0.001429</td><td>0.001415</td><td>0.00128</td><td>0.001398</td><td>0.00259</td><td>0.002994</td><td>0.003888</td><td>0.004973</td><td>0.002252</td><td>0.003097</td><td>0.003159</td><td>0.003167</td><td>4.0</td><td>5.0</td><td>11.0</td><td>16.0</td><td>1203.4244</td><td>1072.9868</td><td>879.31895</td><td>960.450267</td><td>0</td></tr><tr><td>2023-06-12 01:30:00</td><td>1686501000000</td><td>25824.1</td><td>25948.8</td><td>25820.0</td><td>25855.5</td><td>7.923997</td><td>7.1520e7</td><td>6</td><td>163</td><td>1.5</td><td>12</td><td>1</td><td>1.2246e-16</td><td>-1.0</td><td>0.336637</td><td>-0.941634</td><td>0.382683</td><td>0.92388</td><td>0.001215</td><td>0.004877</td><td>0.003246</td><td>-0.000656</td><td>0.000404</td><td>0.001021</td><td>0.000285</td><td>0.000148</td><td>0.000053</td><td>-0.000656</td><td>-0.0018</td><td>-0.002095</td><td>-0.002257</td><td>0.003246</td><td>0.003246</td><td>0.003246</td><td>0.003246</td><td>0.001432</td><td>0.001449</td><td>0.001305</td><td>0.001366</td><td>0.004462</td><td>0.003805</td><td>0.004209</td><td>0.005103</td><td>0.000195</td><td>0.000931</td><td>0.001068</td><td>0.001163</td><td>4.0</td><td>6.0</td><td>11.0</td><td>16.0</td><td>1484.5038</td><td>1213.7866</td><td>998.94505</td><td>1017.476533</td><td>0</td></tr><tr><td>2023-06-12 02:00:00</td><td>1686502800000</td><td>25855.5</td><td>26024.3</td><td>25833.2</td><td>25981.9</td><td>8.486068</td><td>1.2575e8</td><td>6</td><td>163</td><td>2.0</td><td>12</td><td>1</td><td>1.2246e-16</td><td>-1.0</td><td>0.336637</td><td>-0.941634</td><td>0.5</td><td>0.866025</td><td>0.004877</td><td>-0.001872</td><td>0.001215</td><td>0.003246</td><td>-0.000656</td><td>0.001817</td><td>0.000801</td><td>0.000406</td><td>0.00029</td><td>-0.000656</td><td>-0.0018</td><td>-0.002095</td><td>-0.002095</td><td>0.004877</td><td>0.004877</td><td>0.004877</td><td>0.004877</td><td>0.002229</td><td>0.002027</td><td>0.001673</td><td>0.001558</td><td>0.006092</td><td>0.009338</td><td>0.008682</td><td>0.009086</td><td>0.00306</td><td>0.004076</td><td>0.004471</td><td>0.004586</td><td>4.0</td><td>7.0</td><td>12.0</td><td>17.0</td><td>2299.7192</td><td>1646.5346</td><td>1223.8253</td><td>1155.597767</td><td>0</td></tr><tr><td>&hellip;</td><td>&hellip;</td><td>&hellip;</td><td>&hellip;</td><td>&hellip;</td><td>&hellip;</td><td>&hellip;</td><td>&hellip;</td><td>&hellip;</td><td>&hellip;</td><td>&hellip;</td><td>&hellip;</td><td>&hellip;</td><td>&hellip;</td><td>&hellip;</td><td>&hellip;</td><td>&hellip;</td><td>&hellip;</td><td>&hellip;</td><td>&hellip;</td><td>&hellip;</td><td>&hellip;</td><td>&hellip;</td><td>&hellip;</td><td>&hellip;</td><td>&hellip;</td><td>&hellip;</td><td>&hellip;</td><td>&hellip;</td><td>&hellip;</td><td>&hellip;</td><td>&hellip;</td><td>&hellip;</td><td>&hellip;</td><td>&hellip;</td><td>&hellip;</td><td>&hellip;</td><td>&hellip;</td><td>&hellip;</td><td>&hellip;</td><td>&hellip;</td><td>&hellip;</td><td>&hellip;</td><td>&hellip;</td><td>&hellip;</td><td>&hellip;</td><td>&hellip;</td><td>&hellip;</td><td>&hellip;</td><td>&hellip;</td><td>&hellip;</td><td>&hellip;</td><td>&hellip;</td><td>&hellip;</td><td>&hellip;</td><td>&hellip;</td><td>&hellip;</td></tr><tr><td>2024-07-23 20:00:00</td><td>1721732400000</td><td>66833.6</td><td>66834.3</td><td>66403.2</td><td>66534.3</td><td>8.167429</td><td>2.3473e8</td><td>7</td><td>205</td><td>20.0</td><td>23</td><td>2</td><td>-0.5</td><td>-0.866025</td><td>-0.368763</td><td>-0.929523</td><td>-0.866025</td><td>0.5</td><td>-0.004488</td><td>0.001599</td><td>-0.001951</td><td>0.000919</td><td>-0.000916</td><td>-0.000985</td><td>-0.000206</td><td>-0.0005</td><td>-0.000685</td><td>-0.004488</td><td>-0.004488</td><td>-0.005966</td><td>-0.005966</td><td>0.001512</td><td>0.00375</td><td>0.004014</td><td>0.004014</td><td>0.002402</td><td>0.002726</td><td>0.00305</td><td>0.002946</td><td>-0.006439</td><td>-0.00552</td><td>-0.006436</td><td>-0.004924</td><td>-0.003504</td><td>-0.004282</td><td>-0.003988</td><td>-0.003804</td><td>2.0</td><td>5.0</td><td>9.0</td><td>14.0</td><td>1656.3346</td><td>1800.3506</td><td>1980.8405</td><td>1894.7615</td><td>58</td></tr><tr><td>2024-07-23 20:30:00</td><td>1721734200000</td><td>66534.3</td><td>66726.2</td><td>66462.8</td><td>66640.8</td><td>7.204815</td><td>8.9716e7</td><td>7</td><td>205</td><td>20.5</td><td>23</td><td>2</td><td>-0.5</td><td>-0.866025</td><td>-0.368763</td><td>-0.929523</td><td>-0.793353</td><td>0.608761</td><td>0.001599</td><td>-0.002303</td><td>-0.004488</td><td>-0.001951</td><td>0.000919</td><td>-0.000967</td><td>0.000207</td><td>-0.000548</td><td>-0.000721</td><td>-0.004488</td><td>-0.004488</td><td>-0.005966</td><td>-0.005966</td><td>0.001599</td><td>0.00375</td><td>0.004014</td><td>0.004014</td><td>0.002425</td><td>0.002646</td><td>0.003006</td><td>0.00291</td><td>-0.002889</td><td>-0.00484</td><td>-0.003921</td><td>-0.004837</td><td>0.002567</td><td>0.001392</td><td>0.002147</td><td>0.00232</td><td>2.0</td><td>6.0</td><td>9.0</td><td>14.0</td><td>1721.6862</td><td>1742.8497</td><td>2006.47135</td><td>1871.879433</td><td>58</td></tr><tr><td>2024-07-23 21:00:00</td><td>1721736000000</td><td>66640.8</td><td>66719.5</td><td>66452.0</td><td>66487.5</td><td>7.343016</td><td>1.0290e8</td><td>7</td><td>205</td><td>21.0</td><td>23</td><td>2</td><td>-0.5</td><td>-0.866025</td><td>-0.368763</td><td>-0.929523</td><td>-0.707107</td><td>0.707107</td><td>-0.002303</td><td>-0.000256</td><td>0.001599</td><td>-0.004488</td><td>-0.001951</td><td>-0.001245</td><td>0.000267</td><td>-0.000664</td><td>-0.000603</td><td>-0.004488</td><td>-0.004488</td><td>-0.005966</td><td>-0.005966</td><td>0.001599</td><td>0.00375</td><td>0.004014</td><td>0.004014</td><td>0.002495</td><td>0.002574</td><td>0.003028</td><td>0.002764</td><td>-0.000704</td><td>-0.005192</td><td>-0.007143</td><td>-0.006224</td><td>-0.001058</td><td>-0.00257</td><td>-0.001639</td><td>-0.0017</td><td>2.0</td><td>6.0</td><td>8.0</td><td>14.0</td><td>1653.4358</td><td>1724.6766</td><td>2037.82815</td><td>1854.086833</td><td>58</td></tr><tr><td>2024-07-23 21:30:00</td><td>1721737800000</td><td>66487.5</td><td>66501.1</td><td>66333.0</td><td>66470.5</td><td>7.70802</td><td>1.4783e8</td><td>7</td><td>205</td><td>21.5</td><td>23</td><td>2</td><td>-0.5</td><td>-0.866025</td><td>-0.368763</td><td>-0.929523</td><td>-0.608761</td><td>0.793353</td><td>-0.000256</td><td>-0.001161</td><td>-0.002303</td><td>0.001599</td><td>-0.004488</td><td>-0.00148</td><td>-0.000134</td><td>-0.000854</td><td>-0.000668</td><td>-0.004488</td><td>-0.004488</td><td>-0.005966</td><td>-0.005966</td><td>0.001599</td><td>0.002546</td><td>0.004014</td><td>0.004014</td><td>0.002288</td><td>0.002265</td><td>0.002866</td><td>0.002731</td><td>-0.002559</td><td>-0.000959</td><td>-0.005448</td><td>-0.007398</td><td>0.001224</td><td>-0.000122</td><td>0.000598</td><td>0.000413</td><td>1.0</td><td>5.0</td><td>7.0</td><td>13.0</td><td>1876.7402</td><td>1786.28</td><td>2071.0278</td><td>1903.888733</td><td>58</td></tr><tr><td>2024-07-23 22:00:00</td><td>1721739600000</td><td>66470.5</td><td>66566.0</td><td>66342.7</td><td>66393.4</td><td>6.443909</td><td>4.1797e7</td><td>7</td><td>205</td><td>22.0</td><td>23</td><td>2</td><td>-0.5</td><td>-0.866025</td><td>-0.368763</td><td>-0.929523</td><td>-0.5</td><td>0.866025</td><td>-0.001161</td><td>null</td><td>-0.000256</td><td>-0.002303</td><td>0.001599</td><td>-0.001322</td><td>-0.000504</td><td>-0.000868</td><td>-0.000587</td><td>-0.004488</td><td>-0.004488</td><td>-0.005966</td><td>-0.005966</td><td>0.001599</td><td>0.002002</td><td>0.004014</td><td>0.004014</td><td>0.002274</td><td>0.002073</td><td>0.002867</td><td>0.002677</td><td>-0.001416</td><td>-0.003719</td><td>-0.00212</td><td>-0.006608</td><td>0.000161</td><td>-0.000656</td><td>-0.000293</td><td>-0.000573</td><td>1.0</td><td>4.0</td><td>7.0</td><td>13.0</td><td>1854.1052</td><td>1688.7285</td><td>2069.9101</td><td>1857.908733</td><td>58</td></tr></tbody></table></div>"
      ],
      "text/plain": [
       "shape: (19_581, 57)\n",
       "┌────────────┬────────────┬─────────┬─────────┬───┬────────────┬────────────┬───────────┬──────────┐\n",
       "│ datetime   ┆ timestamp  ┆ open    ┆ high    ┆ … ┆ volume_rol ┆ volume_rol ┆ volume_ro ┆ num_week │\n",
       "│ ---        ┆ ---        ┆ ---     ┆ ---     ┆   ┆ ling_10    ┆ ling_20    ┆ lling_30  ┆ ---      │\n",
       "│ datetime[μ ┆ i64        ┆ f64     ┆ f64     ┆   ┆ ---        ┆ ---        ┆ ---       ┆ i32      │\n",
       "│ s]         ┆            ┆         ┆         ┆   ┆ f64        ┆ f64        ┆ f64       ┆          │\n",
       "╞════════════╪════════════╪═════════╪═════════╪═══╪════════════╪════════════╪═══════════╪══════════╡\n",
       "│ 2023-06-12 ┆ 1686495600 ┆ 25746.9 ┆ 25766.7 ┆ … ┆ 939.6116   ┆ 825.5607   ┆ 905.54476 ┆ 0        │\n",
       "│ 00:00:00   ┆ 000        ┆         ┆         ┆   ┆            ┆            ┆ 7         ┆          │\n",
       "│ 2023-06-12 ┆ 1686497400 ┆ 25757.3 ┆ 25758.5 ┆ … ┆ 867.1479   ┆ 767.19175  ┆ 885.64466 ┆ 0        │\n",
       "│ 00:30:00   ┆ 000        ┆         ┆         ┆   ┆            ┆            ┆ 7         ┆          │\n",
       "│ 2023-06-12 ┆ 1686499200 ┆ 25740.4 ┆ 25890.5 ┆ … ┆ 1072.9868  ┆ 879.31895  ┆ 960.45026 ┆ 0        │\n",
       "│ 01:00:00   ┆ 000        ┆         ┆         ┆   ┆            ┆            ┆ 7         ┆          │\n",
       "│ 2023-06-12 ┆ 1686501000 ┆ 25824.1 ┆ 25948.8 ┆ … ┆ 1213.7866  ┆ 998.94505  ┆ 1017.4765 ┆ 0        │\n",
       "│ 01:30:00   ┆ 000        ┆         ┆         ┆   ┆            ┆            ┆ 33        ┆          │\n",
       "│ 2023-06-12 ┆ 1686502800 ┆ 25855.5 ┆ 26024.3 ┆ … ┆ 1646.5346  ┆ 1223.8253  ┆ 1155.5977 ┆ 0        │\n",
       "│ 02:00:00   ┆ 000        ┆         ┆         ┆   ┆            ┆            ┆ 67        ┆          │\n",
       "│ …          ┆ …          ┆ …       ┆ …       ┆ … ┆ …          ┆ …          ┆ …         ┆ …        │\n",
       "│ 2024-07-23 ┆ 1721732400 ┆ 66833.6 ┆ 66834.3 ┆ … ┆ 1800.3506  ┆ 1980.8405  ┆ 1894.7615 ┆ 58       │\n",
       "│ 20:00:00   ┆ 000        ┆         ┆         ┆   ┆            ┆            ┆           ┆          │\n",
       "│ 2024-07-23 ┆ 1721734200 ┆ 66534.3 ┆ 66726.2 ┆ … ┆ 1742.8497  ┆ 2006.47135 ┆ 1871.8794 ┆ 58       │\n",
       "│ 20:30:00   ┆ 000        ┆         ┆         ┆   ┆            ┆            ┆ 33        ┆          │\n",
       "│ 2024-07-23 ┆ 1721736000 ┆ 66640.8 ┆ 66719.5 ┆ … ┆ 1724.6766  ┆ 2037.82815 ┆ 1854.0868 ┆ 58       │\n",
       "│ 21:00:00   ┆ 000        ┆         ┆         ┆   ┆            ┆            ┆ 33        ┆          │\n",
       "│ 2024-07-23 ┆ 1721737800 ┆ 66487.5 ┆ 66501.1 ┆ … ┆ 1786.28    ┆ 2071.0278  ┆ 1903.8887 ┆ 58       │\n",
       "│ 21:30:00   ┆ 000        ┆         ┆         ┆   ┆            ┆            ┆ 33        ┆          │\n",
       "│ 2024-07-23 ┆ 1721739600 ┆ 66470.5 ┆ 66566.0 ┆ … ┆ 1688.7285  ┆ 2069.9101  ┆ 1857.9087 ┆ 58       │\n",
       "│ 22:00:00   ┆ 000        ┆         ┆         ┆   ┆            ┆            ┆ 33        ┆          │\n",
       "└────────────┴────────────┴─────────┴─────────┴───┴────────────┴────────────┴───────────┴──────────┘"
      ]
     },
     "execution_count": 16,
     "metadata": {},
     "output_type": "execute_result"
    }
   ],
   "source": [
    "df"
   ]
  },
  {
   "cell_type": "code",
   "execution_count": 23,
   "metadata": {},
   "outputs": [],
   "source": [
    "#学習関連\n",
    "n_trials = 100\n",
    "n_splits = 3\n",
    "n_estimators = 10000\n",
    "early_stop_patience = 100\n",
    "\n",
    "val_size = 1\n",
    "\n",
    "max_week = int(df.select('num_week').max().to_numpy().squeeze())\n",
    "min_week = int(df.select('num_week').min().to_numpy().squeeze())\n",
    "\n",
    "trial_best_iters = []"
   ]
  },
  {
   "cell_type": "code",
   "execution_count": 24,
   "metadata": {},
   "outputs": [],
   "source": [
    "from sklearn.model_selection import TimeSeriesSplit"
   ]
  },
  {
   "cell_type": "code",
   "execution_count": 25,
   "metadata": {},
   "outputs": [],
   "source": [
    "# 検証データの作成\n",
    "all_train_phases = np.arange(min_week, max_week, 1)\n",
    "tscv = TimeSeriesSplit(n_splits=n_splits, test_size=val_size)\n",
    "\n",
    "datasets = []\n",
    "\n",
    "for train_phases, valid_phases in tscv.split(all_train_phases):\n",
    "    #データセットの作成\n",
    "    df_train = df.filter(pl.col(\"num_week\").is_in(train_phases)).to_pandas().drop([\"datetime\", \"num_week\"], axis=1)\n",
    "    df_valid = df.filter(pl.col(\"num_week\").is_in(valid_phases)).to_pandas().drop([\"datetime\", \"num_week\"], axis=1)\n",
    "    \n",
    "    datasets.append((df_train, df_valid))"
   ]
  },
  {
   "cell_type": "code",
   "execution_count": 26,
   "metadata": {},
   "outputs": [],
   "source": [
    "def direction_accuracy(y_true, y_pred):\n",
    "    return ((y_true * y_pred) > 0).mean()"
   ]
  },
  {
   "cell_type": "code",
   "execution_count": 60,
   "metadata": {},
   "outputs": [],
   "source": [
    "import lightgbm as lgb\n",
    "import optuna\n",
    "from sklearn.ensemble import VotingRegressor"
   ]
  },
  {
   "cell_type": "code",
   "execution_count": 61,
   "metadata": {},
   "outputs": [],
   "source": [
    "def objective(trial):\n",
    "    # 探索するパラメータ\n",
    "    trial_params = {\n",
    "        'num_leaves': trial.suggest_int('num_leaves', 2, 256),\n",
    "        'max_depth': trial.suggest_int('max_depth', 3, 20),\n",
    "        'subsample': trial.suggest_float('subsample', 0.5, 1.0),\n",
    "        'colsample_bytree': trial.suggest_float('colsample_bytree', 0.5, 1.0),\n",
    "        'reg_alpha': trial.suggest_float('reg_alpha', 1e-5, 1e5, log=True),\n",
    "        'reg_lambda': trial.suggest_float('reg_lambda', 1e-5, 1e5, log=True),\n",
    "        'learning_rate': trial.suggest_float('learning_rate', 1e-5, 1e-1, log=True),\n",
    "        'verbosity': -1,\n",
    "    }\n",
    "\n",
    "    val_scores = []\n",
    "    best_iters = []\n",
    "\n",
    "    for df_train, df_valid in datasets:\n",
    "        # モデルの学習 (Early Stoppingあり)\n",
    "        model = lgb.LGBMRegressor(\n",
    "            objective='rmse',\n",
    "            n_estimators=10000,\n",
    "            **trial_params\n",
    "        )\n",
    "\n",
    "        model.fit(\n",
    "            df_train.drop(['target'], axis=1), df_train['target'],\n",
    "            eval_set=[(df_valid.drop(['target'], axis=1), df_valid['target'])],\n",
    "            eval_metric='rmse',\n",
    "            callbacks=[\n",
    "                lgb.early_stopping(\n",
    "                    stopping_rounds=early_stop_patience,\n",
    "                    verbose=False\n",
    "                )\n",
    "            ]\n",
    "        )\n",
    "\n",
    "        iteration = model.best_iteration_\n",
    "        n_average = 4\n",
    "        model = VotingRegressor([\n",
    "            (f'lgbm{i}', lgb.LGBMRegressor(objective='rmse', n_estimators=iteration, random_state=42+i, **trial_params)) for i in range(n_average)\n",
    "        ])\n",
    "        model.fit(df_train.drop(['target'], axis=1), df_train['target'])\n",
    "\n",
    "        y_pred = model.predict(df_valid.drop(['target'], axis=1))\n",
    "        val_score = direction_accuracy(df_valid['target'], y_pred)\n",
    "        val_scores.append(val_score)\n",
    "        \n",
    "        best_iters.append(iteration)\n",
    "    \n",
    "    trial_best_iters.append(best_iters)\n",
    "\n",
    "    return np.mean(val_scores)"
   ]
  },
  {
   "cell_type": "code",
   "execution_count": 62,
   "metadata": {},
   "outputs": [
    {
     "name": "stderr",
     "output_type": "stream",
     "text": [
      "[I 2024-07-28 21:06:12,506] A new study created in memory with name: no-name-56ffa6c7-50c1-4097-965d-e79c3891664b\n",
      "[I 2024-07-28 21:10:27,601] Trial 0 finished with value: 0.5208333333333334 and parameters: {'num_leaves': 97, 'max_depth': 20, 'subsample': 0.8659969709057025, 'colsample_bytree': 0.7993292420985183, 'reg_alpha': 0.000363233925694314, 'reg_lambda': 0.00036303224667798577, 'learning_rate': 1.7073967431528103e-05}. Best is trial 0 with value: 0.5208333333333334.\n",
      "[I 2024-07-28 21:10:28,282] Trial 1 finished with value: 0.5228174603174603 and parameters: {'num_leaves': 222, 'max_depth': 13, 'subsample': 0.8540362888980227, 'colsample_bytree': 0.5102922471479012, 'reg_alpha': 50014.798288569255, 'reg_lambda': 2110.6995036049584, 'learning_rate': 7.068974950624602e-05}. Best is trial 1 with value: 0.5228174603174603.\n",
      "[I 2024-07-28 21:10:30,113] Trial 2 finished with value: 0.5148809523809524 and parameters: {'num_leaves': 48, 'max_depth': 6, 'subsample': 0.6521211214797689, 'colsample_bytree': 0.762378215816119, 'reg_alpha': 0.20866527711063726, 'reg_lambda': 0.008171304639059409, 'learning_rate': 0.0028016351587162596}. Best is trial 1 with value: 0.5228174603174603.\n",
      "[I 2024-07-28 21:10:30,691] Trial 3 finished with value: 0.5228174603174603 and parameters: {'num_leaves': 37, 'max_depth': 8, 'subsample': 0.6831809216468459, 'colsample_bytree': 0.728034992108518, 'reg_alpha': 710.8199592296854, 'reg_lambda': 0.0009925166969962285, 'learning_rate': 0.0011400863701127321}. Best is trial 1 with value: 0.5228174603174603.\n",
      "[I 2024-07-28 21:10:31,701] Trial 4 finished with value: 0.5277777777777778 and parameters: {'num_leaves': 153, 'max_depth': 3, 'subsample': 0.8037724259507192, 'colsample_bytree': 0.5852620618436457, 'reg_alpha': 4.4721455524694904e-05, 'reg_lambda': 30821.613670416522, 'learning_rate': 0.07286653737491042}. Best is trial 4 with value: 0.5277777777777778.\n",
      "[I 2024-07-28 21:10:40,014] Trial 5 finished with value: 0.5128968253968255 and parameters: {'num_leaves': 208, 'max_depth': 8, 'subsample': 0.5488360570031919, 'colsample_bytree': 0.8421165132560784, 'reg_alpha': 0.25207219165367484, 'reg_lambda': 0.00016610486342334645, 'learning_rate': 0.0009565499215943821}. Best is trial 4 with value: 0.5277777777777778.\n",
      "[I 2024-07-28 21:10:44,491] Trial 6 finished with value: 0.5248015873015873 and parameters: {'num_leaves': 10, 'max_depth': 19, 'subsample': 0.6293899908000085, 'colsample_bytree': 0.831261142176991, 'reg_alpha': 0.013095158546031504, 'reg_lambda': 1.587377469278182, 'learning_rate': 0.0015375920235481753}. Best is trial 4 with value: 0.5277777777777778.\n",
      "[I 2024-07-28 21:10:45,079] Trial 7 finished with value: 0.5228174603174603 and parameters: {'num_leaves': 49, 'max_depth': 20, 'subsample': 0.8875664116805573, 'colsample_bytree': 0.9697494707820946, 'reg_alpha': 8877.148894655582, 'reg_lambda': 9.527956991613818, 'learning_rate': 0.048696409415208995}. Best is trial 4 with value: 0.5277777777777778.\n",
      "[I 2024-07-28 21:10:46,695] Trial 8 finished with value: 0.5069444444444445 and parameters: {'num_leaves': 24, 'max_depth': 6, 'subsample': 0.522613644455269, 'colsample_bytree': 0.6626651653816322, 'reg_alpha': 0.07705004503489672, 'reg_lambda': 0.0051699973172927354, 'learning_rate': 0.02065142557895925}. Best is trial 4 with value: 0.5277777777777778.\n",
      "[I 2024-07-28 21:10:47,294] Trial 9 finished with value: 0.5228174603174603 and parameters: {'num_leaves': 92, 'max_depth': 8, 'subsample': 0.7713480415791243, 'colsample_bytree': 0.5704621124873813, 'reg_alpha': 1051.8887432316683, 'reg_lambda': 5.5655288302015414e-05, 'learning_rate': 0.08862326508576253}. Best is trial 4 with value: 0.5277777777777778.\n",
      "[I 2024-07-28 21:10:48,654] Trial 10 finished with value: 0.5178571428571429 and parameters: {'num_leaves': 165, 'max_depth': 3, 'subsample': 0.984768555393933, 'colsample_bytree': 0.6248126654205948, 'reg_alpha': 1.3976832212304096e-05, 'reg_lambda': 11930.206277066416, 'learning_rate': 0.008345792463621356}. Best is trial 4 with value: 0.5277777777777778.\n",
      "[I 2024-07-28 21:11:34,888] Trial 11 finished with value: 0.5109126984126985 and parameters: {'num_leaves': 156, 'max_depth': 14, 'subsample': 0.65522484496423, 'colsample_bytree': 0.9153368210114128, 'reg_alpha': 0.0015200023313123178, 'reg_lambda': 11.215732557008204, 'learning_rate': 0.00020340930480926194}. Best is trial 4 with value: 0.5277777777777778.\n",
      "[I 2024-07-28 21:11:37,673] Trial 12 finished with value: 0.5228174603174603 and parameters: {'num_leaves': 118, 'max_depth': 16, 'subsample': 0.7654694146036494, 'colsample_bytree': 0.8649245219634519, 'reg_alpha': 0.0018622604100109609, 'reg_lambda': 428.1363178528333, 'learning_rate': 0.007216183484086819}. Best is trial 4 with value: 0.5277777777777778.\n",
      "[I 2024-07-28 21:19:09,629] Trial 13 finished with value: 0.5228174603174603 and parameters: {'num_leaves': 255, 'max_depth': 17, 'subsample': 0.7043715399181197, 'colsample_bytree': 0.6871515081000062, 'reg_alpha': 2.1669996907627587e-05, 'reg_lambda': 83748.96266196782, 'learning_rate': 0.00023506997063237137}. Best is trial 4 with value: 0.5277777777777778.\n",
      "[I 2024-07-28 21:19:10,239] Trial 14 finished with value: 0.5228174603174603 and parameters: {'num_leaves': 168, 'max_depth': 11, 'subsample': 0.6012380534676671, 'colsample_bytree': 0.5850272272782387, 'reg_alpha': 15.548151869782137, 'reg_lambda': 0.1451121877003176, 'learning_rate': 0.017310741590692038}. Best is trial 4 with value: 0.5277777777777778.\n",
      "[I 2024-07-28 21:20:17,104] Trial 15 finished with value: 0.5277777777777778 and parameters: {'num_leaves': 79, 'max_depth': 3, 'subsample': 0.8296831665240589, 'colsample_bytree': 0.9897367676100014, 'reg_alpha': 0.006832149536677438, 'reg_lambda': 129.33254604556535, 'learning_rate': 1.3962100266000192e-05}. Best is trial 4 with value: 0.5277777777777778.\n",
      "[I 2024-07-28 21:20:17,691] Trial 16 finished with value: 0.5228174603174603 and parameters: {'num_leaves': 82, 'max_depth': 3, 'subsample': 0.8284063397235643, 'colsample_bytree': 0.9815863733225247, 'reg_alpha': 6.246841612936465, 'reg_lambda': 217.32574638406183, 'learning_rate': 1.1065136021091009e-05}. Best is trial 4 with value: 0.5277777777777778.\n",
      "[I 2024-07-28 21:21:55,877] Trial 17 finished with value: 0.5228174603174603 and parameters: {'num_leaves': 130, 'max_depth': 5, 'subsample': 0.9372402749153962, 'colsample_bytree': 0.5028815366736693, 'reg_alpha': 0.00023339416477099467, 'reg_lambda': 74882.77386771355, 'learning_rate': 4.927714665677508e-05}. Best is trial 4 with value: 0.5277777777777778.\n",
      "[I 2024-07-28 21:22:29,363] Trial 18 finished with value: 0.5198412698412699 and parameters: {'num_leaves': 70, 'max_depth': 10, 'subsample': 0.7960692662929828, 'colsample_bytree': 0.9298249375977756, 'reg_alpha': 0.012502814771208489, 'reg_lambda': 118.01705842905578, 'learning_rate': 0.00029221453614189304}. Best is trial 4 with value: 0.5277777777777778.\n",
      "[I 2024-07-28 21:23:33,945] Trial 19 finished with value: 0.5228174603174603 and parameters: {'num_leaves': 134, 'max_depth': 4, 'subsample': 0.723072521037448, 'colsample_bytree': 0.736074276896272, 'reg_alpha': 9.490463981587439e-05, 'reg_lambda': 8899.397947842674, 'learning_rate': 4.5312929865251905e-05}. Best is trial 4 with value: 0.5277777777777778.\n",
      "[I 2024-07-28 21:23:34,541] Trial 20 finished with value: 0.5228174603174603 and parameters: {'num_leaves': 203, 'max_depth': 6, 'subsample': 0.9242278169262644, 'colsample_bytree': 0.5637247120454808, 'reg_alpha': 3.2040143904835268, 'reg_lambda': 36.25542838373726, 'learning_rate': 0.0006517715016420478}. Best is trial 4 with value: 0.5277777777777778.\n",
      "[I 2024-07-28 21:23:35,227] Trial 21 finished with value: 0.5218253968253969 and parameters: {'num_leaves': 7, 'max_depth': 17, 'subsample': 0.8143488496986575, 'colsample_bytree': 0.8651962335738276, 'reg_alpha': 0.00542025731662788, 'reg_lambda': 1.0108417462020327, 'learning_rate': 0.004476197694611287}. Best is trial 4 with value: 0.5277777777777778.\n",
      "[I 2024-07-28 21:23:39,034] Trial 22 finished with value: 0.5168650793650794 and parameters: {'num_leaves': 11, 'max_depth': 10, 'subsample': 0.5861038805440004, 'colsample_bytree': 0.8064077008918861, 'reg_alpha': 0.03374698295441516, 'reg_lambda': 0.5237587231317329, 'learning_rate': 0.0021144257355212273}. Best is trial 4 with value: 0.5277777777777778.\n",
      "[I 2024-07-28 21:23:41,418] Trial 23 finished with value: 0.5069444444444445 and parameters: {'num_leaves': 67, 'max_depth': 14, 'subsample': 0.7380595825022275, 'colsample_bytree': 0.9173788852317547, 'reg_alpha': 0.0008069748601132467, 'reg_lambda': 2.0718214198796097, 'learning_rate': 0.031086348689002376}. Best is trial 4 with value: 0.5277777777777778.\n",
      "[I 2024-07-28 21:23:44,871] Trial 24 finished with value: 0.5228174603174603 and parameters: {'num_leaves': 108, 'max_depth': 4, 'subsample': 0.622709210171437, 'colsample_bytree': 0.6533676066838329, 'reg_alpha': 0.008973403690640062, 'reg_lambda': 0.0748489092463147, 'learning_rate': 0.00011639010490358282}. Best is trial 4 with value: 0.5277777777777778.\n",
      "[I 2024-07-28 21:25:40,901] Trial 25 finished with value: 0.5228174603174603 and parameters: {'num_leaves': 149, 'max_depth': 7, 'subsample': 0.9109014223747265, 'colsample_bytree': 0.6988292175778709, 'reg_alpha': 4.715499994196373e-05, 'reg_lambda': 1250.497193531506, 'learning_rate': 2.5531669044283882e-05}. Best is trial 4 with value: 0.5277777777777778.\n",
      "[I 2024-07-28 21:25:41,527] Trial 26 finished with value: 0.5228174603174603 and parameters: {'num_leaves': 63, 'max_depth': 18, 'subsample': 0.7797720802742967, 'colsample_bytree': 0.9987349142404867, 'reg_alpha': 1.3696188539168994, 'reg_lambda': 7243.234720430901, 'learning_rate': 0.0006135495950308788}. Best is trial 4 with value: 0.5277777777777778.\n",
      "[I 2024-07-28 21:25:45,943] Trial 27 finished with value: 0.5069444444444444 and parameters: {'num_leaves': 193, 'max_depth': 12, 'subsample': 0.8329560569487693, 'colsample_bytree': 0.7883733406636713, 'reg_alpha': 0.0001437393345318148, 'reg_lambda': 8.426944953505078, 'learning_rate': 0.010100735620948124}. Best is trial 4 with value: 0.5277777777777778.\n",
      "[I 2024-07-28 21:25:49,943] Trial 28 finished with value: 0.5089285714285714 and parameters: {'num_leaves': 179, 'max_depth': 15, 'subsample': 0.9838766254689366, 'colsample_bytree': 0.9438245048353374, 'reg_alpha': 0.04959238173724389, 'reg_lambda': 44.27220926829619, 'learning_rate': 0.07267267900355416}. Best is trial 4 with value: 0.5277777777777778.\n",
      "[I 2024-07-28 21:29:54,664] Trial 29 finished with value: 0.5188492063492064 and parameters: {'num_leaves': 101, 'max_depth': 19, 'subsample': 0.8786754051046406, 'colsample_bytree': 0.8264108341774647, 'reg_alpha': 0.0005635257269372198, 'reg_lambda': 0.06225375394068497, 'learning_rate': 1.6329803527232235e-05}. Best is trial 4 with value: 0.5277777777777778.\n",
      "[I 2024-07-28 21:29:55,334] Trial 30 finished with value: 0.5228174603174603 and parameters: {'num_leaves': 29, 'max_depth': 4, 'subsample': 0.6905581230130793, 'colsample_bytree': 0.8873288681828693, 'reg_alpha': 38.04086912548193, 'reg_lambda': 1.0060536083290476e-05, 'learning_rate': 0.0035473378676418783}. Best is trial 4 with value: 0.5277777777777778.\n",
      "[I 2024-07-28 21:29:56,059] Trial 31 finished with value: 0.5228174603174603 and parameters: {'num_leaves': 242, 'max_depth': 13, 'subsample': 0.8466022920431224, 'colsample_bytree': 0.5030261895374017, 'reg_alpha': 58206.066197825814, 'reg_lambda': 1147.3726874823417, 'learning_rate': 6.095737466479522e-05}. Best is trial 4 with value: 0.5277777777777778.\n",
      "[I 2024-07-28 21:31:40,030] Trial 32 finished with value: 0.5248015873015873 and parameters: {'num_leaves': 221, 'max_depth': 10, 'subsample': 0.8594204576503025, 'colsample_bytree': 0.5295716509674251, 'reg_alpha': 0.3195875571636469, 'reg_lambda': 1861.455058656431, 'learning_rate': 0.00011975267261894173}. Best is trial 4 with value: 0.5277777777777778.\n",
      "[I 2024-07-28 21:31:41,455] Trial 33 finished with value: 0.5228174603174603 and parameters: {'num_leaves': 225, 'max_depth': 9, 'subsample': 0.8112271899455037, 'colsample_bytree': 0.5365191576166155, 'reg_alpha': 0.43144937592275057, 'reg_lambda': 16248.772043696408, 'learning_rate': 0.00011451669331499501}. Best is trial 4 with value: 0.5277777777777778.\n",
      "[I 2024-07-28 21:33:05,309] Trial 34 finished with value: 0.5228174603174603 and parameters: {'num_leaves': 146, 'max_depth': 5, 'subsample': 0.8648391311947563, 'colsample_bytree': 0.5969794087914626, 'reg_alpha': 0.003174452874393689, 'reg_lambda': 2537.4258886206717, 'learning_rate': 2.7765413860836395e-05}. Best is trial 4 with value: 0.5277777777777778.\n",
      "[I 2024-07-28 21:33:06,103] Trial 35 finished with value: 0.5228174603174603 and parameters: {'num_leaves': 225, 'max_depth': 3, 'subsample': 0.7382579460657326, 'colsample_bytree': 0.7673310138442877, 'reg_alpha': 0.12219355376517065, 'reg_lambda': 274.5452320192288, 'learning_rate': 0.001502344531884803}. Best is trial 4 with value: 0.5277777777777778.\n",
      "[I 2024-07-28 21:34:32,223] Trial 36 finished with value: 0.5238095238095238 and parameters: {'num_leaves': 115, 'max_depth': 7, 'subsample': 0.8999283123090511, 'colsample_bytree': 0.6173519229384434, 'reg_alpha': 0.0242969057795898, 'reg_lambda': 2886.6879711534198, 'learning_rate': 0.00011070759889398537}. Best is trial 4 with value: 0.5277777777777778.\n",
      "[I 2024-07-28 21:34:32,900] Trial 37 finished with value: 0.5228174603174603 and parameters: {'num_leaves': 184, 'max_depth': 12, 'subsample': 0.9522243251264898, 'colsample_bytree': 0.5412228922564515, 'reg_alpha': 138.37713652267547, 'reg_lambda': 47.64246503733717, 'learning_rate': 0.0004331085972656711}. Best is trial 4 with value: 0.5277777777777778.\n",
      "[I 2024-07-28 21:34:35,712] Trial 38 finished with value: 0.5228174603174603 and parameters: {'num_leaves': 46, 'max_depth': 20, 'subsample': 0.7955078295944639, 'colsample_bytree': 0.7094560501621349, 'reg_alpha': 0.43537177690268436, 'reg_lambda': 17407.37684070962, 'learning_rate': 2.716303539088051e-05}. Best is trial 4 with value: 0.5277777777777778.\n",
      "[I 2024-07-28 21:34:36,348] Trial 39 finished with value: 0.5228174603174603 and parameters: {'num_leaves': 89, 'max_depth': 5, 'subsample': 0.5027292876886564, 'colsample_bytree': 0.5376863044280213, 'reg_alpha': 0.882718944512418, 'reg_lambda': 0.004760813196077927, 'learning_rate': 1.1890751764569029e-05}. Best is trial 4 with value: 0.5277777777777778.\n",
      "[I 2024-07-28 21:34:39,161] Trial 40 finished with value: 0.5228174603174603 and parameters: {'num_leaves': 21, 'max_depth': 7, 'subsample': 0.660769563406926, 'colsample_bytree': 0.6461788547101844, 'reg_alpha': 0.1286971419974045, 'reg_lambda': 522.7533714834937, 'learning_rate': 0.001023611797607785}. Best is trial 4 with value: 0.5277777777777778.\n",
      "[I 2024-07-28 21:34:41,478] Trial 41 finished with value: 0.5228174603174603 and parameters: {'num_leaves': 113, 'max_depth': 7, 'subsample': 0.8943345219255516, 'colsample_bytree': 0.6081665647597971, 'reg_alpha': 0.040956584308249784, 'reg_lambda': 3934.8053097730585, 'learning_rate': 0.00012170748901604727}. Best is trial 4 with value: 0.5277777777777778.\n",
      "[I 2024-07-28 21:37:02,820] Trial 42 finished with value: 0.5228174603174603 and parameters: {'num_leaves': 136, 'max_depth': 9, 'subsample': 0.8484005352064378, 'colsample_bytree': 0.6333803983537876, 'reg_alpha': 0.01648138617052202, 'reg_lambda': 40045.19177494314, 'learning_rate': 0.0001768598052999792}. Best is trial 4 with value: 0.5277777777777778.\n",
      "[I 2024-07-28 21:37:05,033] Trial 43 finished with value: 0.5228174603174603 and parameters: {'num_leaves': 55, 'max_depth': 9, 'subsample': 0.8939086622075834, 'colsample_bytree': 0.5601714989351141, 'reg_alpha': 0.0029094464667191507, 'reg_lambda': 1088.6714833658277, 'learning_rate': 9.220046439130936e-05}. Best is trial 4 with value: 0.5277777777777778.\n",
      "[I 2024-07-28 21:37:09,859] Trial 44 finished with value: 0.5228174603174603 and parameters: {'num_leaves': 121, 'max_depth': 6, 'subsample': 0.8656515619002823, 'colsample_bytree': 0.6784597648255049, 'reg_alpha': 0.021123822011281924, 'reg_lambda': 2669.3787997001573, 'learning_rate': 0.0004130469775171876}. Best is trial 4 with value: 0.5277777777777778.\n",
      "[I 2024-07-28 21:37:25,723] Trial 45 finished with value: 0.5228174603174603 and parameters: {'num_leaves': 79, 'max_depth': 11, 'subsample': 0.9605504081791852, 'colsample_bytree': 0.5227646917413837, 'reg_alpha': 0.0007973353347637335, 'reg_lambda': 95.72740036702774, 'learning_rate': 3.776391428975359e-05}. Best is trial 4 with value: 0.5277777777777778.\n",
      "[I 2024-07-28 21:59:17,631] Trial 46 finished with value: 0.5228174603174603 and parameters: {'num_leaves': 101, 'max_depth': 8, 'subsample': 0.7600996143478228, 'colsample_bytree': 0.6139314112986973, 'reg_alpha': 0.16905954159860895, 'reg_lambda': 32933.81970684384, 'learning_rate': 7.719881446372087e-05}. Best is trial 4 with value: 0.5277777777777778.\n",
      "[I 2024-07-28 21:59:18,276] Trial 47 finished with value: 0.5228174603174603 and parameters: {'num_leaves': 165, 'max_depth': 3, 'subsample': 0.564286035042707, 'colsample_bytree': 0.581947899264309, 'reg_alpha': 1.2814429958265223, 'reg_lambda': 12.507301841076382, 'learning_rate': 0.0019769274461308977}. Best is trial 4 with value: 0.5277777777777778.\n",
      "[I 2024-07-28 21:59:20,583] Trial 48 finished with value: 0.5188492063492064 and parameters: {'num_leaves': 210, 'max_depth': 4, 'subsample': 0.9085741462609253, 'colsample_bytree': 0.8964541588503646, 'reg_alpha': 1.1492233862294436e-05, 'reg_lambda': 3.7356021361098497, 'learning_rate': 0.005674294674357579}. Best is trial 4 with value: 0.5277777777777778.\n",
      "[I 2024-07-28 21:59:24,842] Trial 49 finished with value: 0.5367063492063492 and parameters: {'num_leaves': 42, 'max_depth': 10, 'subsample': 0.7925267878857408, 'colsample_bytree': 0.7434475827531997, 'reg_alpha': 0.0003509695524396505, 'reg_lambda': 8552.211975030092, 'learning_rate': 0.020424125868183624}. Best is trial 49 with value: 0.5367063492063492.\n",
      "[I 2024-07-28 21:59:46,080] Trial 50 finished with value: 0.5376984126984127 and parameters: {'num_leaves': 38, 'max_depth': 13, 'subsample': 0.7827888458779967, 'colsample_bytree': 0.9466652487418522, 'reg_alpha': 5.201339644042103e-05, 'reg_lambda': 92348.39087990164, 'learning_rate': 0.03919852239237008}. Best is trial 50 with value: 0.5376984126984127.\n",
      "[I 2024-07-28 22:00:01,847] Trial 51 finished with value: 0.5347222222222222 and parameters: {'num_leaves': 36, 'max_depth': 13, 'subsample': 0.7841410877937027, 'colsample_bytree': 0.9580195998058806, 'reg_alpha': 4.0673180120554765e-05, 'reg_lambda': 94509.19710090896, 'learning_rate': 0.056364634144835314}. Best is trial 50 with value: 0.5376984126984127.\n",
      "[I 2024-07-28 22:00:21,227] Trial 52 finished with value: 0.5376984126984127 and parameters: {'num_leaves': 38, 'max_depth': 15, 'subsample': 0.7862515114842015, 'colsample_bytree': 0.9605879632370625, 'reg_alpha': 5.479838312664581e-05, 'reg_lambda': 76436.86492041618, 'learning_rate': 0.04140382548895462}. Best is trial 50 with value: 0.5376984126984127.\n",
      "[I 2024-07-28 22:00:40,169] Trial 53 finished with value: 0.5337301587301587 and parameters: {'num_leaves': 37, 'max_depth': 14, 'subsample': 0.7878415587987767, 'colsample_bytree': 0.9578733057864721, 'reg_alpha': 6.194154056478947e-05, 'reg_lambda': 89307.18246073509, 'learning_rate': 0.046344035850973284}. Best is trial 50 with value: 0.5376984126984127.\n",
      "[I 2024-07-28 22:00:59,055] Trial 54 finished with value: 0.5367063492063493 and parameters: {'num_leaves': 39, 'max_depth': 14, 'subsample': 0.7851461535819744, 'colsample_bytree': 0.963437096168742, 'reg_alpha': 3.381504629616595e-05, 'reg_lambda': 80822.00209280143, 'learning_rate': 0.04367780969234115}. Best is trial 50 with value: 0.5376984126984127.\n",
      "[I 2024-07-28 22:01:14,399] Trial 55 finished with value: 0.5347222222222222 and parameters: {'num_leaves': 40, 'max_depth': 14, 'subsample': 0.778635996987751, 'colsample_bytree': 0.9637007097794384, 'reg_alpha': 3.825170025514927e-05, 'reg_lambda': 74515.54646211433, 'learning_rate': 0.0435475686005377}. Best is trial 50 with value: 0.5376984126984127.\n",
      "[I 2024-07-28 22:01:32,946] Trial 56 finished with value: 0.5476190476190476 and parameters: {'num_leaves': 38, 'max_depth': 15, 'subsample': 0.7098291210699595, 'colsample_bytree': 0.9680447560699089, 'reg_alpha': 2.7502373686445938e-05, 'reg_lambda': 37602.14495680613, 'learning_rate': 0.015957335796031365}. Best is trial 56 with value: 0.5476190476190476.\n",
      "[I 2024-07-28 22:01:44,017] Trial 57 finished with value: 0.5416666666666666 and parameters: {'num_leaves': 21, 'max_depth': 15, 'subsample': 0.719215458190282, 'colsample_bytree': 0.9447826838649875, 'reg_alpha': 0.0001823683025456078, 'reg_lambda': 35692.57803996127, 'learning_rate': 0.018691518051445553}. Best is trial 56 with value: 0.5476190476190476.\n",
      "[I 2024-07-28 22:01:50,691] Trial 58 finished with value: 0.5337301587301587 and parameters: {'num_leaves': 22, 'max_depth': 16, 'subsample': 0.7112947619817778, 'colsample_bytree': 0.9332276146975562, 'reg_alpha': 0.00016453093411393355, 'reg_lambda': 22176.964253061185, 'learning_rate': 0.01641810944109489}. Best is trial 56 with value: 0.5476190476190476.\n",
      "[I 2024-07-28 22:01:52,598] Trial 59 finished with value: 0.5426587301587302 and parameters: {'num_leaves': 14, 'max_depth': 15, 'subsample': 0.7469980396036122, 'colsample_bytree': 0.9794284862007593, 'reg_alpha': 0.00028725355010522207, 'reg_lambda': 7258.174869955922, 'learning_rate': 0.030805871277037666}. Best is trial 56 with value: 0.5476190476190476.\n",
      "[I 2024-07-28 22:01:53,782] Trial 60 finished with value: 0.5228174603174603 and parameters: {'num_leaves': 3, 'max_depth': 15, 'subsample': 0.6734726748040245, 'colsample_bytree': 0.9753551053347405, 'reg_alpha': 2.232335087907696e-05, 'reg_lambda': 38937.61849505921, 'learning_rate': 0.029580448483492464}. Best is trial 56 with value: 0.5476190476190476.\n",
      "[I 2024-07-28 22:01:56,873] Trial 61 finished with value: 0.5396825396825398 and parameters: {'num_leaves': 17, 'max_depth': 15, 'subsample': 0.7502296464698235, 'colsample_bytree': 0.8998419121798253, 'reg_alpha': 0.000208843603168668, 'reg_lambda': 6617.5475761676125, 'learning_rate': 0.012804577842992635}. Best is trial 56 with value: 0.5476190476190476.\n",
      "[I 2024-07-28 22:01:59,870] Trial 62 finished with value: 0.5396825396825398 and parameters: {'num_leaves': 17, 'max_depth': 15, 'subsample': 0.7479796419493456, 'colsample_bytree': 0.8981267898093922, 'reg_alpha': 0.00011733208404034297, 'reg_lambda': 5955.564587757633, 'learning_rate': 0.011605332649757378}. Best is trial 56 with value: 0.5476190476190476.\n",
      "[I 2024-07-28 22:02:02,724] Trial 63 finished with value: 0.5238095238095238 and parameters: {'num_leaves': 12, 'max_depth': 16, 'subsample': 0.7339293060223214, 'colsample_bytree': 0.9058041106919433, 'reg_alpha': 8.984548568645926e-05, 'reg_lambda': 6251.351994885874, 'learning_rate': 0.01172350471924963}. Best is trial 56 with value: 0.5476190476190476.\n",
      "[I 2024-07-28 22:02:07,801] Trial 64 finished with value: 0.5367063492063492 and parameters: {'num_leaves': 56, 'max_depth': 15, 'subsample': 0.7542170841396373, 'colsample_bytree': 0.8707431387757126, 'reg_alpha': 0.00029217757019331207, 'reg_lambda': 15793.494622188875, 'learning_rate': 0.028022958244276298}. Best is trial 56 with value: 0.5476190476190476.\n",
      "[I 2024-07-28 22:02:09,048] Trial 65 finished with value: 0.5347222222222222 and parameters: {'num_leaves': 18, 'max_depth': 17, 'subsample': 0.7049898744231585, 'colsample_bytree': 0.9371636134809399, 'reg_alpha': 0.0011445797360333204, 'reg_lambda': 5989.9846030820745, 'learning_rate': 0.09565045643847592}. Best is trial 56 with value: 0.5476190476190476.\n",
      "[I 2024-07-28 22:02:12,074] Trial 66 finished with value: 0.5228174603174603 and parameters: {'num_leaves': 27, 'max_depth': 15, 'subsample': 0.7211946181695446, 'colsample_bytree': 0.9904830041340409, 'reg_alpha': 1.0653772691134766e-05, 'reg_lambda': 41825.66807753942, 'learning_rate': 0.013879116921978515}. Best is trial 56 with value: 0.5476190476190476.\n",
      "[I 2024-07-28 22:02:13,112] Trial 67 finished with value: 0.5228174603174603 and parameters: {'num_leaves': 16, 'max_depth': 13, 'subsample': 0.6921262381465557, 'colsample_bytree': 0.8831304891377434, 'reg_alpha': 0.00011629216649388785, 'reg_lambda': 639.8633715568342, 'learning_rate': 0.0073370042055903}. Best is trial 56 with value: 0.5476190476190476.\n",
      "[I 2024-07-28 22:02:14,795] Trial 68 finished with value: 0.5327380952380952 and parameters: {'num_leaves': 3, 'max_depth': 16, 'subsample': 0.6337684310504768, 'colsample_bytree': 0.922358244218808, 'reg_alpha': 0.00038229311647533705, 'reg_lambda': 12629.448328681628, 'learning_rate': 0.025616151867218603}. Best is trial 56 with value: 0.5476190476190476.\n",
      "[I 2024-07-28 22:02:18,795] Trial 69 finished with value: 0.5228174603174603 and parameters: {'num_leaves': 30, 'max_depth': 18, 'subsample': 0.7419084190513562, 'colsample_bytree': 0.9527570475062712, 'reg_alpha': 0.00018294552130322485, 'reg_lambda': 28838.341174749636, 'learning_rate': 0.009043144912424153}. Best is trial 56 with value: 0.5476190476190476.\n",
      "[I 2024-07-28 22:02:21,734] Trial 70 finished with value: 0.5386904761904762 and parameters: {'num_leaves': 50, 'max_depth': 17, 'subsample': 0.7659291902391557, 'colsample_bytree': 0.9785375178566612, 'reg_alpha': 2.3665469070782916e-05, 'reg_lambda': 7600.025566922197, 'learning_rate': 0.06699152785529132}. Best is trial 56 with value: 0.5476190476190476.\n",
      "[I 2024-07-28 22:02:24,611] Trial 71 finished with value: 0.5367063492063492 and parameters: {'num_leaves': 49, 'max_depth': 17, 'subsample': 0.7629676995797623, 'colsample_bytree': 0.9810323118791129, 'reg_alpha': 8.484605706251516e-05, 'reg_lambda': 7584.597259447687, 'learning_rate': 0.06318644697902416}. Best is trial 56 with value: 0.5476190476190476.\n",
      "[I 2024-07-28 22:02:34,804] Trial 72 finished with value: 0.5376984126984128 and parameters: {'num_leaves': 25, 'max_depth': 16, 'subsample': 0.7262977060833457, 'colsample_bytree': 0.9446439162741164, 'reg_alpha': 3.147883833578236e-05, 'reg_lambda': 52163.42852848099, 'learning_rate': 0.035109038287917727}. Best is trial 56 with value: 0.5476190476190476.\n",
      "[I 2024-07-28 22:02:39,298] Trial 73 finished with value: 0.5307539682539683 and parameters: {'num_leaves': 29, 'max_depth': 16, 'subsample': 0.7260196551560187, 'colsample_bytree': 0.9989516455010894, 'reg_alpha': 2.034322518703539e-05, 'reg_lambda': 4337.006090865997, 'learning_rate': 0.013844156201137277}. Best is trial 56 with value: 0.5476190476190476.\n",
      "[I 2024-07-28 22:02:42,394] Trial 74 finished with value: 0.5357142857142857 and parameters: {'num_leaves': 11, 'max_depth': 18, 'subsample': 0.7498700422644295, 'colsample_bytree': 0.9120346814752455, 'reg_alpha': 2.6163044803729113e-05, 'reg_lambda': 15252.462091125837, 'learning_rate': 0.022417255741614676}. Best is trial 56 with value: 0.5476190476190476.\n",
      "[I 2024-07-28 22:02:43,082] Trial 75 finished with value: 0.5228174603174603 and parameters: {'num_leaves': 57, 'max_depth': 17, 'subsample': 0.6783225137105692, 'colsample_bytree': 0.9435390189863216, 'reg_alpha': 14188.111655832758, 'reg_lambda': 1177.3298330938417, 'learning_rate': 0.03188112764748838}. Best is trial 56 with value: 0.5476190476190476.\n",
      "[I 2024-07-28 22:02:46,861] Trial 76 finished with value: 0.5317460317460317 and parameters: {'num_leaves': 16, 'max_depth': 15, 'subsample': 0.7177951650482871, 'colsample_bytree': 0.8345740620344584, 'reg_alpha': 1.6045477449146686e-05, 'reg_lambda': 39888.318899570775, 'learning_rate': 0.07619092338767106}. Best is trial 56 with value: 0.5476190476190476.\n",
      "[I 2024-07-28 22:02:50,867] Trial 77 finished with value: 0.5238095238095238 and parameters: {'num_leaves': 71, 'max_depth': 14, 'subsample': 0.8158823914151232, 'colsample_bytree': 0.9764869077170902, 'reg_alpha': 0.000592118221493151, 'reg_lambda': 1941.7086750179687, 'learning_rate': 0.005668481199079053}. Best is trial 56 with value: 0.5476190476190476.\n",
      "[I 2024-07-28 22:02:56,184] Trial 78 finished with value: 0.5436507936507937 and parameters: {'num_leaves': 33, 'max_depth': 13, 'subsample': 0.7702298922335669, 'colsample_bytree': 0.8467071536243426, 'reg_alpha': 0.001832437528550165, 'reg_lambda': 23172.783595843965, 'learning_rate': 0.036228476980673587}. Best is trial 56 with value: 0.5476190476190476.\n",
      "[I 2024-07-28 22:03:00,902] Trial 79 finished with value: 0.5376984126984128 and parameters: {'num_leaves': 24, 'max_depth': 19, 'subsample': 0.6962770990515041, 'colsample_bytree': 0.848353302508747, 'reg_alpha': 0.0014043347065616067, 'reg_lambda': 9527.66754192886, 'learning_rate': 0.020547198503661098}. Best is trial 56 with value: 0.5476190476190476.\n",
      "[I 2024-07-28 22:03:04,611] Trial 80 finished with value: 0.5158730158730159 and parameters: {'num_leaves': 33, 'max_depth': 12, 'subsample': 0.7669720545438554, 'colsample_bytree': 0.9263404153885184, 'reg_alpha': 0.0023970612610138007, 'reg_lambda': 3927.033478642334, 'learning_rate': 0.01196045527084344}. Best is trial 56 with value: 0.5476190476190476.\n",
      "[I 2024-07-28 22:03:08,731] Trial 81 finished with value: 0.5396825396825398 and parameters: {'num_leaves': 23, 'max_depth': 16, 'subsample': 0.6993725154597512, 'colsample_bytree': 0.851330540086189, 'reg_alpha': 0.005342330023397923, 'reg_lambda': 9912.472945054524, 'learning_rate': 0.01711529587172153}. Best is trial 56 with value: 0.5476190476190476.\n",
      "[I 2024-07-28 22:03:13,239] Trial 82 finished with value: 0.5327380952380952 and parameters: {'num_leaves': 11, 'max_depth': 16, 'subsample': 0.7433453034807849, 'colsample_bytree': 0.8528275412810377, 'reg_alpha': 0.004889439722864145, 'reg_lambda': 21220.503030872853, 'learning_rate': 0.016783979176662127}. Best is trial 56 with value: 0.5476190476190476.\n",
      "[I 2024-07-28 22:03:17,246] Trial 83 finished with value: 0.5347222222222222 and parameters: {'num_leaves': 47, 'max_depth': 17, 'subsample': 0.7288457071922322, 'colsample_bytree': 0.8219202506386619, 'reg_alpha': 0.0004172834449845704, 'reg_lambda': 11306.900863262137, 'learning_rate': 0.034726716975380253}. Best is trial 56 with value: 0.5476190476190476.\n",
      "[I 2024-07-28 22:03:18,641] Trial 84 finished with value: 0.5198412698412699 and parameters: {'num_leaves': 23, 'max_depth': 16, 'subsample': 0.6715281370236037, 'colsample_bytree': 0.9013866685102396, 'reg_alpha': 0.00014511918907691816, 'reg_lambda': 769.1799587178666, 'learning_rate': 0.057413335935335714}. Best is trial 56 with value: 0.5476190476190476.\n",
      "[I 2024-07-28 22:03:19,899] Trial 85 finished with value: 0.5208333333333334 and parameters: {'num_leaves': 17, 'max_depth': 15, 'subsample': 0.647678186303187, 'colsample_bytree': 0.8860448550848747, 'reg_alpha': 0.00020832544338197714, 'reg_lambda': 346.278350608925, 'learning_rate': 0.025712141139371314}. Best is trial 56 with value: 0.5476190476190476.\n",
      "[I 2024-07-28 22:03:20,605] Trial 86 finished with value: 0.5228174603174603 and parameters: {'num_leaves': 2, 'max_depth': 14, 'subsample': 0.7052207422868533, 'colsample_bytree': 0.867354111310752, 'reg_alpha': 0.0007779630987586404, 'reg_lambda': 0.00035536919652690246, 'learning_rate': 0.0036831445993270313}. Best is trial 56 with value: 0.5476190476190476.\n",
      "[I 2024-07-28 22:03:23,496] Trial 87 finished with value: 0.5297619047619048 and parameters: {'num_leaves': 31, 'max_depth': 15, 'subsample': 0.7549227689901722, 'colsample_bytree': 0.8088255625871236, 'reg_alpha': 7.634879100361139e-05, 'reg_lambda': 5277.26442197697, 'learning_rate': 0.018581277342116256}. Best is trial 56 with value: 0.5476190476190476.\n",
      "[I 2024-07-28 22:03:28,126] Trial 88 finished with value: 0.5297619047619048 and parameters: {'num_leaves': 52, 'max_depth': 18, 'subsample': 0.8073482306895132, 'colsample_bytree': 0.9872046252721979, 'reg_alpha': 0.009693103461642347, 'reg_lambda': 1639.2987582958806, 'learning_rate': 0.00991405449844697}. Best is trial 56 with value: 0.5476190476190476.\n",
      "[I 2024-07-28 22:03:36,285] Trial 89 finished with value: 0.5228174603174603 and parameters: {'num_leaves': 63, 'max_depth': 16, 'subsample': 0.7682850946433459, 'colsample_bytree': 0.9162729426412877, 'reg_alpha': 0.0002180681750908704, 'reg_lambda': 46312.70470268375, 'learning_rate': 0.005798159906250434}. Best is trial 56 with value: 0.5476190476190476.\n",
      "[I 2024-07-28 22:03:38,024] Trial 90 finished with value: 0.5208333333333334 and parameters: {'num_leaves': 9, 'max_depth': 13, 'subsample': 0.6870670877776742, 'colsample_bytree': 0.7729246789356056, 'reg_alpha': 0.0011276399903582123, 'reg_lambda': 24446.567484890027, 'learning_rate': 0.06955338568500279}. Best is trial 56 with value: 0.5476190476190476.\n",
      "[I 2024-07-28 22:03:41,502] Trial 91 finished with value: 0.5396825396825398 and parameters: {'num_leaves': 26, 'max_depth': 19, 'subsample': 0.7006681944862533, 'colsample_bytree': 0.8511298306862178, 'reg_alpha': 0.004077318009880178, 'reg_lambda': 9636.316832485596, 'learning_rate': 0.02249129627589484}. Best is trial 56 with value: 0.5476190476190476.\n",
      "[I 2024-07-28 22:03:44,984] Trial 92 finished with value: 0.5128968253968255 and parameters: {'num_leaves': 46, 'max_depth': 19, 'subsample': 0.7149480394574109, 'colsample_bytree': 0.8950908721807423, 'reg_alpha': 0.004383019745090417, 'reg_lambda': 3588.9648201979558, 'learning_rate': 0.01468011760132405}. Best is trial 56 with value: 0.5476190476190476.\n",
      "[I 2024-07-28 22:03:59,611] Trial 93 finished with value: 0.5476190476190477 and parameters: {'num_leaves': 25, 'max_depth': 17, 'subsample': 0.699722055449151, 'colsample_bytree': 0.8602667269104136, 'reg_alpha': 0.0017252432699300657, 'reg_lambda': 55244.366008014855, 'learning_rate': 0.023139840768626935}. Best is trial 93 with value: 0.5476190476190477.\n",
      "[I 2024-07-28 22:04:02,988] Trial 94 finished with value: 0.5446428571428572 and parameters: {'num_leaves': 17, 'max_depth': 17, 'subsample': 0.6652756568830825, 'colsample_bytree': 0.8755358646803637, 'reg_alpha': 0.0026854980391041177, 'reg_lambda': 10820.967860183966, 'learning_rate': 0.022679259853224682}. Best is trial 93 with value: 0.5476190476190477.\n",
      "[I 2024-07-28 22:04:09,774] Trial 95 finished with value: 0.5297619047619048 and parameters: {'num_leaves': 19, 'max_depth': 19, 'subsample': 0.6652343908067336, 'colsample_bytree': 0.8572946498562238, 'reg_alpha': 0.0023096280304961735, 'reg_lambda': 24167.98120809177, 'learning_rate': 0.02334977203076506}. Best is trial 93 with value: 0.5476190476190477.\n",
      "[I 2024-07-28 22:04:10,977] Trial 96 finished with value: 0.5228174603174603 and parameters: {'num_leaves': 6, 'max_depth': 18, 'subsample': 0.6558809154139982, 'colsample_bytree': 0.8379481092237497, 'reg_alpha': 0.0015981939393624617, 'reg_lambda': 10801.988072453, 'learning_rate': 0.012378001601868523}. Best is trial 93 with value: 0.5476190476190477.\n",
      "[I 2024-07-28 22:04:12,981] Trial 97 finished with value: 0.5198412698412699 and parameters: {'num_leaves': 14, 'max_depth': 14, 'subsample': 0.6387933403493836, 'colsample_bytree': 0.8740228261353443, 'reg_alpha': 0.007825113873477696, 'reg_lambda': 2592.2304542201186, 'learning_rate': 0.007904413876505156}. Best is trial 93 with value: 0.5476190476190477.\n",
      "[I 2024-07-28 22:04:18,213] Trial 98 finished with value: 0.5396825396825398 and parameters: {'num_leaves': 33, 'max_depth': 15, 'subsample': 0.7003970463387575, 'colsample_bytree': 0.8224167813658864, 'reg_alpha': 0.0034170551709103844, 'reg_lambda': 13213.18780706603, 'learning_rate': 0.018346115769218452}. Best is trial 93 with value: 0.5476190476190477.\n",
      "[I 2024-07-28 22:04:30,333] Trial 99 finished with value: 0.5476190476190477 and parameters: {'num_leaves': 25, 'max_depth': 20, 'subsample': 0.610970869033854, 'colsample_bytree': 0.8788066563495497, 'reg_alpha': 0.0005636372696596984, 'reg_lambda': 24801.187987013585, 'learning_rate': 0.010698541705205452}. Best is trial 93 with value: 0.5476190476190477.\n"
     ]
    },
    {
     "name": "stdout",
     "output_type": "stream",
     "text": [
      "Best trial:\n",
      "  Value: 0.5476190476190477\n",
      "  Params: \n",
      "    num_leaves: 25\n",
      "    max_depth: 17\n",
      "    subsample: 0.699722055449151\n",
      "    colsample_bytree: 0.8602667269104136\n",
      "    reg_alpha: 0.0017252432699300657\n",
      "    reg_lambda: 55244.366008014855\n",
      "    learning_rate: 0.023139840768626935\n"
     ]
    }
   ],
   "source": [
    "study = optuna.create_study(direction='maximize', sampler=optuna.samplers.TPESampler(seed=42))\n",
    "study.optimize(objective, n_trials=n_trials)\n",
    "\n",
    "# 最適なパラメータを表示\n",
    "print('Best trial:')\n",
    "trial = study.best_trial\n",
    "print(f'  Value: {trial.value}')\n",
    "print('  Params: ')\n",
    "for key, value in trial.params.items():\n",
    "    print(f'    {key}: {value}')\n",
    "\n",
    "# 最適なパラメータの取得\n",
    "tuned_params = trial.params\n",
    "tuned_iter = int(np.mean(trial_best_iters[trial.number]))"
   ]
  },
  {
   "cell_type": "code",
   "execution_count": 37,
   "metadata": {},
   "outputs": [
    {
     "data": {
      "text/plain": [
       "{'num_leaves': 225,\n",
       " 'max_depth': 6,\n",
       " 'subsample': 0.8750533725048678,\n",
       " 'colsample_bytree': 0.5527519537916414,\n",
       " 'reg_alpha': 0.00022603269326809019,\n",
       " 'reg_lambda': 12199.790792209302,\n",
       " 'learning_rate': 0.023382203904194498}"
      ]
     },
     "execution_count": 37,
     "metadata": {},
     "output_type": "execute_result"
    }
   ],
   "source": [
    "trial.params"
   ]
  },
  {
   "cell_type": "code",
   "execution_count": 90,
   "metadata": {},
   "outputs": [
    {
     "name": "stdout",
     "output_type": "stream",
     "text": [
      "Test Score: 0.49107142857142855\n"
     ]
    }
   ],
   "source": [
    "params = {\n",
    "    'num_leaves': 240,\n",
    "    'max_depth': 6,\n",
    "    'subsample': 0.8908349028148492,\n",
    "    'colsample_bytree': 0.6097839084290924,\n",
    "    'reg_alpha': 0.002512266474633023,\n",
    "    'reg_lambda': 17866.170787949755,\n",
    "    'learning_rate': 0.030640685008873333,\n",
    "    'verbosity': -1\n",
    "    }\n",
    "\n",
    "iterations = trial_best_iters[trial.number]\n",
    "iteration = np.max(iterations)\n",
    "\n",
    "n_average = 8\n",
    "\n",
    "model = VotingRegressor([\n",
    "    (f'lgbm{i}', lgb.LGBMRegressor(objective='rmse', n_estimators=iteration, random_state=42+i, **params)) for i in range(n_average)\n",
    "])\n",
    "\n",
    "df_train = df.filter(pl.col(\"num_week\") < max_week).to_pandas().drop([\"datetime\", \"num_week\"], axis=1)\n",
    "df_test = df.filter(pl.col(\"num_week\") == max_week).to_pandas().drop([\"datetime\", \"num_week\"], axis=1)\n",
    "\n",
    "model.fit(df_train.drop(['target'], axis=1), df_train['target'])\n",
    "\n",
    "y_pred = model.predict(df_test.drop(['target'], axis=1))\n",
    "\n",
    "test_score = direction_accuracy(df_test['target'], y_pred)\n",
    "\n",
    "print(f\"Test Score: {test_score}\")"
   ]
  },
  {
   "cell_type": "code",
   "execution_count": 38,
   "metadata": {},
   "outputs": [],
   "source": [
    "from sklearn.ensemble import VotingClassifier\n",
    "from sklearn.metrics import accuracy_score"
   ]
  },
  {
   "cell_type": "code",
   "execution_count": 41,
   "metadata": {},
   "outputs": [],
   "source": [
    "def objective(trial):\n",
    "    # 探索するパラメータ\n",
    "    trial_params = {\n",
    "        'num_leaves': trial.suggest_int('num_leaves', 2, 256),\n",
    "        'max_depth': trial.suggest_int('max_depth', 3, 20),\n",
    "        'subsample': trial.suggest_float('subsample', 0.5, 1.0),\n",
    "        'colsample_bytree': trial.suggest_float('colsample_bytree', 0.5, 1.0),\n",
    "        'reg_alpha': trial.suggest_float('reg_alpha', 1e-5, 1e5, log=True),\n",
    "        'reg_lambda': trial.suggest_float('reg_lambda', 1e-5, 1e5, log=True),\n",
    "        'learning_rate': trial.suggest_float('learning_rate', 1e-5, 1e-1, log=True),\n",
    "        'verbosity': -1,\n",
    "    }\n",
    "\n",
    "    val_scores = []\n",
    "    best_iters = []\n",
    "\n",
    "    for df_train, df_valid in datasets:\n",
    "\n",
    "        df_train['target'] = (df_train['target'] > 0).astype(int)\n",
    "        df_valid['target'] = (df_valid['target'] > 0).astype(int)\n",
    "\n",
    "        # モデルの学習 (Early Stoppingあり)\n",
    "        model = lgb.LGBMClassifier(\n",
    "            objective='binary',\n",
    "            n_estimators=10000,\n",
    "            **trial_params\n",
    "        )\n",
    "\n",
    "        model.fit(\n",
    "            df_train.drop(['target'], axis=1), df_train['target'],\n",
    "            eval_set=[(df_valid.drop(['target'], axis=1), df_valid['target'])],\n",
    "            eval_metric='auc',\n",
    "            callbacks=[\n",
    "                lgb.early_stopping(\n",
    "                    stopping_rounds=early_stop_patience,\n",
    "                    verbose=False\n",
    "                )\n",
    "            ]\n",
    "        )\n",
    "\n",
    "        iteration = model.best_iteration_\n",
    "        n_average = 4\n",
    "\n",
    "        model = VotingClassifier([\n",
    "            (f'lgbm{i}', lgb.LGBMClassifier(objective='binary', n_estimators=iteration, random_state=42+i, **trial_params)) for i in range(n_average)\n",
    "        ], voting='soft')\n",
    "        model.fit(df_train.drop(['target'], axis=1), df_train['target'])\n",
    "\n",
    "        threshold = trial.suggest_float('threshold', 0.35, 0.65)\n",
    "\n",
    "        y_pred_proba = model.predict_proba(df_valid.drop(['target'], axis=1))[:, 1]\n",
    "        y_pred = (y_pred_proba > threshold).astype(int)\n",
    "        val_score = accuracy_score(df_valid['target'], y_pred)\n",
    "        val_scores.append(val_score)\n",
    "        \n",
    "        best_iters.append(iteration)\n",
    "    \n",
    "    trial_best_iters.append(best_iters)\n",
    "\n",
    "    return np.mean(val_scores)"
   ]
  },
  {
   "cell_type": "code",
   "execution_count": 42,
   "metadata": {},
   "outputs": [
    {
     "name": "stderr",
     "output_type": "stream",
     "text": [
      "[I 2024-07-26 18:15:28,875] A new study created in memory with name: no-name-c076afc4-f1a7-4490-830f-fb752bed6264\n",
      "[I 2024-07-26 18:15:34,134] Trial 0 finished with value: 0.4861111111111111 and parameters: {'num_leaves': 97, 'max_depth': 20, 'subsample': 0.8659969709057025, 'colsample_bytree': 0.7993292420985183, 'reg_alpha': 0.000363233925694314, 'reg_lambda': 0.00036303224667798577, 'learning_rate': 1.7073967431528103e-05, 'threshold': 0.6098528437324806}. Best is trial 0 with value: 0.4861111111111111.\n",
      "[I 2024-07-26 18:15:34,723] Trial 1 finished with value: 0.513888888888889 and parameters: {'num_leaves': 155, 'max_depth': 15, 'subsample': 0.5102922471479012, 'colsample_bytree': 0.9849549260809971, 'reg_alpha': 2110.6995036049584, 'reg_lambda': 0.001328590390054419, 'learning_rate': 5.3370327626039544e-05, 'threshold': 0.40502135295603015}. Best is trial 1 with value: 0.513888888888889.\n",
      "[I 2024-07-26 18:15:36,557] Trial 2 finished with value: 0.513888888888889 and parameters: {'num_leaves': 79, 'max_depth': 12, 'subsample': 0.7159725093210578, 'colsample_bytree': 0.645614570099021, 'reg_alpha': 13.137990612765092, 'reg_lambda': 0.0002482782105195092, 'learning_rate': 0.00014742753159914678, 'threshold': 0.4599085529881075}. Best is trial 1 with value: 0.513888888888889.\n",
      "[I 2024-07-26 18:15:41,058] Trial 3 finished with value: 0.513888888888889 and parameters: {'num_leaves': 118, 'max_depth': 17, 'subsample': 0.5998368910791798, 'colsample_bytree': 0.7571172192068059, 'reg_alpha': 8.397416393796016, 'reg_lambda': 2.9140978279786208e-05, 'learning_rate': 0.0026926469100861782, 'threshold': 0.40115723710618745}. Best is trial 1 with value: 0.513888888888889.\n",
      "[I 2024-07-26 18:15:42,767] Trial 4 finished with value: 0.5138888888888888 and parameters: {'num_leaves': 18, 'max_depth': 20, 'subsample': 0.9828160165372797, 'colsample_bytree': 0.9041986740582306, 'reg_alpha': 0.011120842542974102, 'reg_lambda': 9.47809680478426e-05, 'learning_rate': 0.005456725485601475, 'threshold': 0.4820457481218804}. Best is trial 1 with value: 0.513888888888889.\n",
      "[I 2024-07-26 18:15:53,581] Trial 5 finished with value: 0.5466269841269842 and parameters: {'num_leaves': 33, 'max_depth': 11, 'subsample': 0.5171942605576092, 'colsample_bytree': 0.954660201039391, 'reg_alpha': 0.0038707918324734553, 'reg_lambda': 42.19129382647605, 'learning_rate': 0.00017654048052495074, 'threshold': 0.5060204063533432}. Best is trial 5 with value: 0.5466269841269842.\n",
      "[I 2024-07-26 18:15:54,131] Trial 6 finished with value: 0.4861111111111111 and parameters: {'num_leaves': 141, 'max_depth': 6, 'subsample': 0.9847923138822793, 'colsample_bytree': 0.8875664116805573, 'reg_alpha': 24830.725886395965, 'reg_lambda': 8877.148894655582, 'learning_rate': 0.002463768595899745, 'threshold': 0.626562270506935}. Best is trial 5 with value: 0.5466269841269842.\n",
      "[I 2024-07-26 18:15:55,157] Trial 7 finished with value: 0.513888888888889 and parameters: {'num_leaves': 24, 'max_depth': 6, 'subsample': 0.522613644455269, 'colsample_bytree': 0.6626651653816322, 'reg_alpha': 0.07705004503489672, 'reg_lambda': 0.0051699973172927354, 'learning_rate': 0.02065142557895925, 'threshold': 0.45702599800807675}. Best is trial 5 with value: 0.5466269841269842.\n",
      "[I 2024-07-26 18:15:56,766] Trial 8 finished with value: 0.513888888888889 and parameters: {'num_leaves': 73, 'max_depth': 12, 'subsample': 0.5704621124873813, 'colsample_bytree': 0.9010984903770198, 'reg_alpha': 5.5655288302015414e-05, 'reg_lambda': 73938.28382876336, 'learning_rate': 0.012273800987852962, 'threshold': 0.4096147044602517}. Best is trial 5 with value: 0.5466269841269842.\n",
      "[I 2024-07-26 18:15:57,322] Trial 9 finished with value: 0.513888888888889 and parameters: {'num_leaves': 3, 'max_depth': 17, 'subsample': 0.8534286719238086, 'colsample_bytree': 0.8645035840204937, 'reg_alpha': 516.0638842498246, 'reg_lambda': 5.501061716588898e-05, 'learning_rate': 0.00027155819552829395, 'threshold': 0.3847607178575389}. Best is trial 5 with value: 0.5466269841269842.\n",
      "[I 2024-07-26 18:15:58,055] Trial 10 finished with value: 0.4861111111111111 and parameters: {'num_leaves': 243, 'max_depth': 3, 'subsample': 0.6843643863605486, 'colsample_bytree': 0.5089809378074099, 'reg_alpha': 0.005331737654344477, 'reg_lambda': 79.88601098150987, 'learning_rate': 0.06903717055434701, 'threshold': 0.552971713922834}. Best is trial 5 with value: 0.5466269841269842.\n",
      "[I 2024-07-26 18:15:58,661] Trial 11 finished with value: 0.4861111111111111 and parameters: {'num_leaves': 191, 'max_depth': 14, 'subsample': 0.5078663360539338, 'colsample_bytree': 0.9729048599868566, 'reg_alpha': 16553.60431038218, 'reg_lambda': 0.36502269243715996, 'learning_rate': 1.9225003923173726e-05, 'threshold': 0.5358601829400798}. Best is trial 5 with value: 0.5466269841269842.\n",
      "[I 2024-07-26 18:16:23,191] Trial 12 finished with value: 0.4861111111111111 and parameters: {'num_leaves': 177, 'max_depth': 10, 'subsample': 0.6334955364726849, 'colsample_bytree': 0.985271990238237, 'reg_alpha': 1.0404011003880709, 'reg_lambda': 1.8957843348256662, 'learning_rate': 0.00011197979778277096, 'threshold': 0.52189050371804}. Best is trial 5 with value: 0.5466269841269842.\n",
      "[I 2024-07-26 18:16:24,194] Trial 13 finished with value: 0.513888888888889 and parameters: {'num_leaves': 162, 'max_depth': 10, 'subsample': 0.5029168505005427, 'colsample_bytree': 0.9980082658737177, 'reg_alpha': 285.05957684966285, 'reg_lambda': 0.04189570721505194, 'learning_rate': 0.0004926455061177938, 'threshold': 0.3602403822888661}. Best is trial 5 with value: 0.5466269841269842.\n",
      "[I 2024-07-26 18:16:31,556] Trial 14 finished with value: 0.4861111111111111 and parameters: {'num_leaves': 209, 'max_depth': 15, 'subsample': 0.6561174679610582, 'colsample_bytree': 0.8223368426340427, 'reg_alpha': 1.3533282799217685e-05, 'reg_lambda': 190.29890535791853, 'learning_rate': 5.5085710774770616e-05, 'threshold': 0.5714295026378698}. Best is trial 5 with value: 0.5466269841269842.\n",
      "[I 2024-07-26 18:16:40,307] Trial 15 finished with value: 0.513888888888889 and parameters: {'num_leaves': 51, 'max_depth': 8, 'subsample': 0.7793992915216572, 'colsample_bytree': 0.9385642079225855, 'reg_alpha': 0.0015005810448867351, 'reg_lambda': 19.046032165568395, 'learning_rate': 0.0007163920508218484, 'threshold': 0.4363727898395192}. Best is trial 5 with value: 0.5466269841269842.\n",
      "[I 2024-07-26 18:16:44,026] Trial 16 finished with value: 0.4861111111111111 and parameters: {'num_leaves': 130, 'max_depth': 14, 'subsample': 0.5765052040954473, 'colsample_bytree': 0.6779981706434833, 'reg_alpha': 0.15082157530299514, 'reg_lambda': 0.006586756565926796, 'learning_rate': 7.139717797283292e-05, 'threshold': 0.5080474907460494}. Best is trial 5 with value: 0.5466269841269842.\n",
      "[I 2024-07-26 18:16:44,644] Trial 17 finished with value: 0.513888888888889 and parameters: {'num_leaves': 229, 'max_depth': 17, 'subsample': 0.7812564285126707, 'colsample_bytree': 0.8387333649673925, 'reg_alpha': 1138.3896250994312, 'reg_lambda': 1157.6346974218623, 'learning_rate': 1.1290595733876745e-05, 'threshold': 0.3530099867387503}. Best is trial 5 with value: 0.5466269841269842.\n",
      "[I 2024-07-26 18:16:47,019] Trial 18 finished with value: 0.4861111111111111 and parameters: {'num_leaves': 151, 'max_depth': 10, 'subsample': 0.5621243005829863, 'colsample_bytree': 0.9465084607300646, 'reg_alpha': 26.820959225055738, 'reg_lambda': 1.168860193739687, 'learning_rate': 4.7809275760288176e-05, 'threshold': 0.5889436066826315}. Best is trial 5 with value: 0.5466269841269842.\n",
      "[I 2024-07-26 18:16:50,160] Trial 19 finished with value: 0.513888888888889 and parameters: {'num_leaves': 110, 'max_depth': 15, 'subsample': 0.6188484938305487, 'colsample_bytree': 0.5215579462336459, 'reg_alpha': 0.5542434704115055, 'reg_lambda': 8.225772800973935, 'learning_rate': 0.0003038927557348748, 'threshold': 0.48822653127892024}. Best is trial 5 with value: 0.5466269841269842.\n",
      "[I 2024-07-26 18:16:50,710] Trial 20 finished with value: 0.513888888888889 and parameters: {'num_leaves': 43, 'max_depth': 7, 'subsample': 0.71451395067503, 'colsample_bytree': 0.7383650327712076, 'reg_alpha': 81803.51429271659, 'reg_lambda': 0.09260636434200076, 'learning_rate': 0.0013255240424677169, 'threshold': 0.42247502785303664}. Best is trial 5 with value: 0.5466269841269842.\n",
      "[I 2024-07-26 18:16:53,538] Trial 21 finished with value: 0.513888888888889 and parameters: {'num_leaves': 76, 'max_depth': 12, 'subsample': 0.8426400411404165, 'colsample_bytree': 0.557038253273326, 'reg_alpha': 18.845829841259963, 'reg_lambda': 0.0011693352943504584, 'learning_rate': 0.00015982420264353455, 'threshold': 0.4604634562218984}. Best is trial 5 with value: 0.5466269841269842.\n",
      "[I 2024-07-26 18:16:54,089] Trial 22 finished with value: 0.513888888888889 and parameters: {'num_leaves': 83, 'max_depth': 13, 'subsample': 0.7231993814100857, 'colsample_bytree': 0.6125423423887347, 'reg_alpha': 2141.129989278435, 'reg_lambda': 1.3190003772119096e-05, 'learning_rate': 4.469105679926596e-05, 'threshold': 0.457214934032265}. Best is trial 5 with value: 0.5466269841269842.\n",
      "[I 2024-07-26 18:17:06,983] Trial 23 finished with value: 0.513888888888889 and parameters: {'num_leaves': 63, 'max_depth': 9, 'subsample': 0.9263392828662602, 'colsample_bytree': 0.690217487709772, 'reg_alpha': 3.013456133759394, 'reg_lambda': 0.0010139543414461692, 'learning_rate': 0.00018091074012267005, 'threshold': 0.4397688747108868}. Best is trial 5 with value: 0.5466269841269842.\n",
      "[I 2024-07-26 18:17:08,121] Trial 24 finished with value: 0.513888888888889 and parameters: {'num_leaves': 40, 'max_depth': 12, 'subsample': 0.6584176056288116, 'colsample_bytree': 0.6019303226738068, 'reg_alpha': 87.28162721587879, 'reg_lambda': 0.012874133561754372, 'learning_rate': 3.161816203373052e-05, 'threshold': 0.38660266331128307}. Best is trial 5 with value: 0.5466269841269842.\n",
      "[I 2024-07-26 18:17:11,003] Trial 25 finished with value: 0.513888888888889 and parameters: {'num_leaves': 89, 'max_depth': 16, 'subsample': 0.5496591730733046, 'colsample_bytree': 0.7429493438212476, 'reg_alpha': 0.05416264970047987, 'reg_lambda': 0.00042450151236968475, 'learning_rate': 0.00010481518110666328, 'threshold': 0.4828750992915432}. Best is trial 5 with value: 0.5466269841269842.\n",
      "[I 2024-07-26 18:17:11,582] Trial 26 finished with value: 0.4861111111111111 and parameters: {'num_leaves': 106, 'max_depth': 11, 'subsample': 0.5483823105305399, 'colsample_bytree': 0.6222689179623186, 'reg_alpha': 5548.809209363597, 'reg_lambda': 0.07929693171241128, 'learning_rate': 0.0008963019673951999, 'threshold': 0.5081940878315571}. Best is trial 5 with value: 0.5466269841269842.\n",
      "[I 2024-07-26 18:17:12,922] Trial 27 finished with value: 0.513888888888889 and parameters: {'num_leaves': 58, 'max_depth': 13, 'subsample': 0.7982325527837018, 'colsample_bytree': 0.9519037435405976, 'reg_alpha': 187.14488524503992, 'reg_lambda': 509.64189060706843, 'learning_rate': 0.0003588845265439863, 'threshold': 0.4664025342031365}. Best is trial 5 with value: 0.5466269841269842.\n",
      "[I 2024-07-26 18:17:20,413] Trial 28 finished with value: 0.513888888888889 and parameters: {'num_leaves': 25, 'max_depth': 19, 'subsample': 0.69375859887217, 'colsample_bytree': 0.7879943454420867, 'reg_alpha': 0.00021492263127808258, 'reg_lambda': 8.382647562637489, 'learning_rate': 0.00016387054757753175, 'threshold': 0.4326193184437953}. Best is trial 5 with value: 0.5466269841269842.\n",
      "[I 2024-07-26 18:17:21,311] Trial 29 finished with value: 0.4861111111111111 and parameters: {'num_leaves': 93, 'max_depth': 4, 'subsample': 0.9156527144819699, 'colsample_bytree': 0.7119996987143727, 'reg_alpha': 0.00043361895262862657, 'reg_lambda': 0.00018592424442120454, 'learning_rate': 3.0752161291768644e-05, 'threshold': 0.5322660439698756}. Best is trial 5 with value: 0.5466269841269842.\n",
      "[I 2024-07-26 18:17:22,954] Trial 30 finished with value: 0.513888888888889 and parameters: {'num_leaves': 3, 'max_depth': 11, 'subsample': 0.6173918533250986, 'colsample_bytree': 0.9259160862294178, 'reg_alpha': 55.22039367321853, 'reg_lambda': 0.0026286717385198403, 'learning_rate': 1.6986990653333213e-05, 'threshold': 0.3775769110968621}. Best is trial 5 with value: 0.5466269841269842.\n",
      "[I 2024-07-26 18:17:30,080] Trial 31 finished with value: 0.513888888888889 and parameters: {'num_leaves': 119, 'max_depth': 17, 'subsample': 0.5895119576664566, 'colsample_bytree': 0.7922606532263154, 'reg_alpha': 3.5762178353492193, 'reg_lambda': 1.2199566453757582e-05, 'learning_rate': 0.0021115424254854642, 'threshold': 0.40592419295617826}. Best is trial 5 with value: 0.5466269841269842.\n",
      "[I 2024-07-26 18:17:36,002] Trial 32 finished with value: 0.513888888888889 and parameters: {'num_leaves': 132, 'max_depth': 19, 'subsample': 0.5312121780375912, 'colsample_bytree': 0.6421585777238812, 'reg_alpha': 8.123847108284318, 'reg_lambda': 5.380275238121898e-05, 'learning_rate': 0.0049214953547721185, 'threshold': 0.3940694921314174}. Best is trial 5 with value: 0.5466269841269842.\n",
      "[I 2024-07-26 18:17:50,492] Trial 33 finished with value: 0.513888888888889 and parameters: {'num_leaves': 156, 'max_depth': 18, 'subsample': 0.5006151334552662, 'colsample_bytree': 0.8597400559673334, 'reg_alpha': 0.4262189517003428, 'reg_lambda': 0.00042652511355559274, 'learning_rate': 0.003123246052143151, 'threshold': 0.41609892603454257}. Best is trial 5 with value: 0.5466269841269842.\n",
      "[I 2024-07-26 18:18:02,164] Trial 34 finished with value: 0.513888888888889 and parameters: {'num_leaves': 176, 'max_depth': 15, 'subsample': 0.6048015988570616, 'colsample_bytree': 0.7681268203156106, 'reg_alpha': 0.019710525689020833, 'reg_lambda': 5.3399673160933206e-05, 'learning_rate': 0.0014587126923036012, 'threshold': 0.36999347669062116}. Best is trial 5 with value: 0.5466269841269842.\n",
      "[I 2024-07-26 18:18:11,722] Trial 35 finished with value: 0.513888888888889 and parameters: {'num_leaves': 116, 'max_depth': 20, 'subsample': 0.5384345040694372, 'colsample_bytree': 0.8783459772509695, 'reg_alpha': 2.1634529821077253, 'reg_lambda': 7057.750199998946, 'learning_rate': 0.01826435507186046, 'threshold': 0.4447508484895581}. Best is trial 5 with value: 0.5466269841269842.\n",
      "[I 2024-07-26 18:18:16,893] Trial 36 finished with value: 0.513888888888889 and parameters: {'num_leaves': 142, 'max_depth': 13, 'subsample': 0.5851769282631833, 'colsample_bytree': 0.5882147088178861, 'reg_alpha': 9.026601636511407, 'reg_lambda': 0.00015183506847359492, 'learning_rate': 0.006095917808132816, 'threshold': 0.47128064197433545}. Best is trial 5 with value: 0.5466269841269842.\n",
      "[I 2024-07-26 18:18:18,483] Trial 37 finished with value: 0.513888888888889 and parameters: {'num_leaves': 21, 'max_depth': 16, 'subsample': 0.6566390071169884, 'colsample_bytree': 0.9121446004261047, 'reg_alpha': 0.13390842082324642, 'reg_lambda': 0.02080778317183916, 'learning_rate': 0.0005906968044508142, 'threshold': 0.3963314233947304}. Best is trial 5 with value: 0.5466269841269842.\n",
      "[I 2024-07-26 18:18:29,088] Trial 38 finished with value: 0.513888888888889 and parameters: {'num_leaves': 100, 'max_depth': 14, 'subsample': 0.5325062431944563, 'colsample_bytree': 0.9659386913293934, 'reg_alpha': 0.005548438334966187, 'reg_lambda': 0.23006667616638976, 'learning_rate': 9.803796903839573e-05, 'threshold': 0.49761774542618664}. Best is trial 5 with value: 0.5466269841269842.\n",
      "[I 2024-07-26 18:18:29,677] Trial 39 finished with value: 0.513888888888889 and parameters: {'num_leaves': 32, 'max_depth': 16, 'subsample': 0.7373581868629272, 'colsample_bytree': 0.5572787949357259, 'reg_alpha': 6127.497646324123, 'reg_lambda': 1.8072374602807936e-05, 'learning_rate': 0.039509824379881084, 'threshold': 0.4217470043607294}. Best is trial 5 with value: 0.5466269841269842.\n",
      "[I 2024-07-26 18:18:30,237] Trial 40 finished with value: 0.4861111111111111 and parameters: {'num_leaves': 65, 'max_depth': 9, 'subsample': 0.6832118638245929, 'colsample_bytree': 0.6476493385144987, 'reg_alpha': 700.4694144515324, 'reg_lambda': 0.0012567230707667479, 'learning_rate': 0.0002261961126201027, 'threshold': 0.5555509744355561}. Best is trial 5 with value: 0.5466269841269842.\n",
      "[I 2024-07-26 18:18:32,050] Trial 41 finished with value: 0.5148809523809524 and parameters: {'num_leaves': 19, 'max_depth': 5, 'subsample': 0.522208079123602, 'colsample_bytree': 0.6762875223640813, 'reg_alpha': 0.021652923702190168, 'reg_lambda': 0.0001527001473948522, 'learning_rate': 0.011368850087299312, 'threshold': 0.4505220861099964}. Best is trial 5 with value: 0.5466269841269842.\n",
      "[I 2024-07-26 18:18:33,096] Trial 42 finished with value: 0.513888888888889 and parameters: {'num_leaves': 9, 'max_depth': 6, 'subsample': 0.5173162644589548, 'colsample_bytree': 0.7013522581034565, 'reg_alpha': 0.02813150357177914, 'reg_lambda': 6.732879565403569e-05, 'learning_rate': 0.012319147541310842, 'threshold': 0.4462329078211812}. Best is trial 5 with value: 0.5466269841269842.\n",
      "[I 2024-07-26 18:18:34,031] Trial 43 finished with value: 0.513888888888889 and parameters: {'num_leaves': 46, 'max_depth': 4, 'subsample': 0.5752832295652252, 'colsample_bytree': 0.6701120513607601, 'reg_alpha': 0.004468461683005458, 'reg_lambda': 0.0035207390337371395, 'learning_rate': 0.006388068874263251, 'threshold': 0.4756806083112273}. Best is trial 5 with value: 0.5466269841269842.\n",
      "[I 2024-07-26 18:18:35,248] Trial 44 finished with value: 0.4861111111111111 and parameters: {'num_leaves': 170, 'max_depth': 5, 'subsample': 0.5556678066078208, 'colsample_bytree': 0.7189155062181757, 'reg_alpha': 0.0008034975145540279, 'reg_lambda': 0.00027542031288739624, 'learning_rate': 0.03739653659050007, 'threshold': 0.6369968204570994}. Best is trial 5 with value: 0.5466269841269842.\n",
      "[I 2024-07-26 18:18:47,334] Trial 45 finished with value: 0.513888888888889 and parameters: {'num_leaves': 189, 'max_depth': 18, 'subsample': 0.5204510186484614, 'colsample_bytree': 0.9998188251869995, 'reg_alpha': 8.36591183606546e-05, 'reg_lambda': 2.742470599192772e-05, 'learning_rate': 0.0004356245017685573, 'threshold': 0.40499760903977144}. Best is trial 5 with value: 0.5466269841269842.\n",
      "[I 2024-07-26 18:18:53,324] Trial 46 finished with value: 0.5238095238095238 and parameters: {'num_leaves': 76, 'max_depth': 8, 'subsample': 0.5987752981530302, 'colsample_bytree': 0.8256368555331087, 'reg_alpha': 0.00210995214494276, 'reg_lambda': 0.00011458764437614767, 'learning_rate': 0.003924802426627141, 'threshold': 0.5187343695961995}. Best is trial 5 with value: 0.5466269841269842.\n",
      "[I 2024-07-26 18:18:56,009] Trial 47 finished with value: 0.5218253968253969 and parameters: {'num_leaves': 73, 'max_depth': 7, 'subsample': 0.6418280774731339, 'colsample_bytree': 0.8201173807314037, 'reg_alpha': 0.009384529495724157, 'reg_lambda': 0.0005827241373294644, 'learning_rate': 0.010092482115014739, 'threshold': 0.5221185975315389}. Best is trial 5 with value: 0.5466269841269842.\n",
      "[I 2024-07-26 18:18:59,114] Trial 48 finished with value: 0.5168650793650794 and parameters: {'num_leaves': 34, 'max_depth': 7, 'subsample': 0.6224118539772799, 'colsample_bytree': 0.8303459618835622, 'reg_alpha': 0.002338214411146621, 'reg_lambda': 0.000505275344443424, 'learning_rate': 0.009150019936594908, 'threshold': 0.5223875218108159}. Best is trial 5 with value: 0.5466269841269842.\n",
      "[I 2024-07-26 18:19:02,525] Trial 49 finished with value: 0.5178571428571428 and parameters: {'num_leaves': 35, 'max_depth': 7, 'subsample': 0.6395967576278068, 'colsample_bytree': 0.8155697090861773, 'reg_alpha': 0.0019617318531910386, 'reg_lambda': 57.66276477706245, 'learning_rate': 0.00882442560510215, 'threshold': 0.5185036214401494}. Best is trial 5 with value: 0.5466269841269842.\n",
      "[I 2024-07-26 18:19:06,516] Trial 50 finished with value: 0.5029761904761905 and parameters: {'num_leaves': 34, 'max_depth': 7, 'subsample': 0.6297320785816082, 'colsample_bytree': 0.8253113110777159, 'reg_alpha': 0.0013911409134005567, 'reg_lambda': 41.197752148989586, 'learning_rate': 0.00417381893340296, 'threshold': 0.519824862063662}. Best is trial 5 with value: 0.5466269841269842.\n",
      "[I 2024-07-26 18:19:08,069] Trial 51 finished with value: 0.4861111111111111 and parameters: {'num_leaves': 11, 'max_depth': 7, 'subsample': 0.5997183570710004, 'colsample_bytree': 0.8390182269941981, 'reg_alpha': 0.003492647964284012, 'reg_lambda': 246.3349477161029, 'learning_rate': 0.013332823887702428, 'threshold': 0.5508588884619309}. Best is trial 5 with value: 0.5466269841269842.\n",
      "[I 2024-07-26 18:19:13,495] Trial 52 finished with value: 0.4761904761904762 and parameters: {'num_leaves': 53, 'max_depth': 8, 'subsample': 0.6723066622543767, 'colsample_bytree': 0.7697625627217644, 'reg_alpha': 0.00016207241671436037, 'reg_lambda': 2516.2124811367016, 'learning_rate': 0.007765277887816195, 'threshold': 0.5399028461961745}. Best is trial 5 with value: 0.5466269841269842.\n",
      "[I 2024-07-26 18:19:14,798] Trial 53 finished with value: 0.513888888888889 and parameters: {'num_leaves': 29, 'max_depth': 5, 'subsample': 0.6303076091611063, 'colsample_bytree': 0.8123422124578281, 'reg_alpha': 0.00971300314802588, 'reg_lambda': 3.572708202396563, 'learning_rate': 0.027942437989222777, 'threshold': 0.5176010599836669}. Best is trial 5 with value: 0.5466269841269842.\n",
      "[I 2024-07-26 18:19:21,268] Trial 54 finished with value: 0.5307539682539683 and parameters: {'num_leaves': 70, 'max_depth': 8, 'subsample': 0.6471793179541635, 'colsample_bytree': 0.8529597982695448, 'reg_alpha': 0.0019837687233862917, 'reg_lambda': 107.98723783880897, 'learning_rate': 0.0096237467050401, 'threshold': 0.49823197394644514}. Best is trial 5 with value: 0.5466269841269842.\n",
      "[I 2024-07-26 18:19:25,033] Trial 55 finished with value: 0.5287698412698413 and parameters: {'num_leaves': 65, 'max_depth': 8, 'subsample': 0.6481737190548753, 'colsample_bytree': 0.848789361160904, 'reg_alpha': 0.002232419333883207, 'reg_lambda': 69.34279529017859, 'learning_rate': 0.008702182998260683, 'threshold': 0.49573934969521694}. Best is trial 5 with value: 0.5466269841269842.\n",
      "[I 2024-07-26 18:19:33,642] Trial 56 finished with value: 0.5545634920634921 and parameters: {'num_leaves': 75, 'max_depth': 9, 'subsample': 0.6444647095886056, 'colsample_bytree': 0.8667073565079294, 'reg_alpha': 1.8363582241958352e-05, 'reg_lambda': 51.58572866199828, 'learning_rate': 0.0034989494386209533, 'threshold': 0.49379721159963386}. Best is trial 56 with value: 0.5545634920634921.\n",
      "[I 2024-07-26 18:19:35,343] Trial 57 finished with value: 0.513888888888889 and parameters: {'num_leaves': 71, 'max_depth': 9, 'subsample': 0.6882375541860857, 'colsample_bytree': 0.8611136392051643, 'reg_alpha': 1.322166450421359e-05, 'reg_lambda': 88672.40367729343, 'learning_rate': 0.0033393159936176047, 'threshold': 0.49406495474157774}. Best is trial 56 with value: 0.5545634920634921.\n",
      "[I 2024-07-26 18:19:41,029] Trial 58 finished with value: 0.5188492063492064 and parameters: {'num_leaves': 80, 'max_depth': 8, 'subsample': 0.7029444998506029, 'colsample_bytree': 0.8811863386662999, 'reg_alpha': 2.2176272421760435e-05, 'reg_lambda': 21.365236735370665, 'learning_rate': 0.002104947221191451, 'threshold': 0.5014394337526442}. Best is trial 56 with value: 0.5545634920634921.\n",
      "[I 2024-07-26 18:19:43,657] Trial 59 finished with value: 0.48908730158730157 and parameters: {'num_leaves': 62, 'max_depth': 10, 'subsample': 0.643570078164466, 'colsample_bytree': 0.9011622502555816, 'reg_alpha': 0.0006710509194920971, 'reg_lambda': 136.9390758043913, 'learning_rate': 0.07487201438329716, 'threshold': 0.5623183325468095}. Best is trial 56 with value: 0.5545634920634921.\n",
      "[I 2024-07-26 18:19:46,242] Trial 60 finished with value: 0.4861111111111111 and parameters: {'num_leaves': 69, 'max_depth': 8, 'subsample': 0.664718771010469, 'colsample_bytree': 0.8493711586041044, 'reg_alpha': 7.575612969567123e-05, 'reg_lambda': 0.5329699757752157, 'learning_rate': 0.019196395382664447, 'threshold': 0.5973919277628438}. Best is trial 56 with value: 0.5545634920634921.\n",
      "[I 2024-07-26 18:19:54,073] Trial 61 finished with value: 0.5337301587301587 and parameters: {'num_leaves': 82, 'max_depth': 8, 'subsample': 0.6991404152489052, 'colsample_bytree': 0.8799312013310754, 'reg_alpha': 2.897190470554405e-05, 'reg_lambda': 30.014996451935424, 'learning_rate': 0.0021723830618432735, 'threshold': 0.506315308843481}. Best is trial 56 with value: 0.5545634920634921.\n",
      "[I 2024-07-26 18:19:59,265] Trial 62 finished with value: 0.48412698412698413 and parameters: {'num_leaves': 85, 'max_depth': 9, 'subsample': 0.7518387505075323, 'colsample_bytree': 0.887610277103212, 'reg_alpha': 2.9764832935789214e-05, 'reg_lambda': 515.4514082829852, 'learning_rate': 0.0014162286154819983, 'threshold': 0.5091637201358082}. Best is trial 56 with value: 0.5545634920634921.\n",
      "[I 2024-07-26 18:20:01,429] Trial 63 finished with value: 0.5148809523809524 and parameters: {'num_leaves': 98, 'max_depth': 6, 'subsample': 0.7068249348529657, 'colsample_bytree': 0.8700130634929258, 'reg_alpha': 0.00033686814417815584, 'reg_lambda': 9.98197222392923, 'learning_rate': 0.0040124427603755375, 'threshold': 0.48534835827815964}. Best is trial 56 with value: 0.5545634920634921.\n",
      "[I 2024-07-26 18:20:13,888] Trial 64 finished with value: 0.501984126984127 and parameters: {'num_leaves': 79, 'max_depth': 10, 'subsample': 0.6747041994295875, 'colsample_bytree': 0.9285213254299333, 'reg_alpha': 0.00013056251343798958, 'reg_lambda': 3.1881546052713814, 'learning_rate': 0.002476338737071381, 'threshold': 0.5320425277881412}. Best is trial 56 with value: 0.5545634920634921.\n",
      "[I 2024-07-26 18:20:17,441] Trial 65 finished with value: 0.4861111111111111 and parameters: {'num_leaves': 58, 'max_depth': 11, 'subsample': 0.6463284197175684, 'colsample_bytree': 0.7998068307504272, 'reg_alpha': 4.839387741043127e-05, 'reg_lambda': 98.38548526615521, 'learning_rate': 0.0008631251804570026, 'threshold': 0.5436474117809444}. Best is trial 56 with value: 0.5545634920634921.\n",
      "[I 2024-07-26 18:20:21,472] Trial 66 finished with value: 0.5238095238095238 and parameters: {'num_leaves': 49, 'max_depth': 9, 'subsample': 0.6032890171230352, 'colsample_bytree': 0.9056004244537119, 'reg_alpha': 0.011194114780015491, 'reg_lambda': 276.19872555492645, 'learning_rate': 0.004990697317217373, 'threshold': 0.49039869122971774}. Best is trial 56 with value: 0.5545634920634921.\n",
      "[I 2024-07-26 18:20:29,750] Trial 67 finished with value: 0.5248015873015873 and parameters: {'num_leaves': 48, 'max_depth': 9, 'subsample': 0.609377979683552, 'colsample_bytree': 0.9102254677150111, 'reg_alpha': 0.05932131324486719, 'reg_lambda': 29.599509033612975, 'learning_rate': 0.001832612665152853, 'threshold': 0.4773325659930235}. Best is trial 56 with value: 0.5545634920634921.\n",
      "[I 2024-07-26 18:20:34,551] Trial 68 finished with value: 0.513888888888889 and parameters: {'num_leaves': 54, 'max_depth': 8, 'subsample': 0.6103551160167922, 'colsample_bytree': 0.961915604562648, 'reg_alpha': 0.04523904886563924, 'reg_lambda': 28.932199655407985, 'learning_rate': 0.001718151513593061, 'threshold': 0.4776476101768832}. Best is trial 56 with value: 0.5545634920634921.\n",
      "[I 2024-07-26 18:20:38,051] Trial 69 finished with value: 0.4930555555555556 and parameters: {'num_leaves': 42, 'max_depth': 11, 'subsample': 0.72956329886107, 'colsample_bytree': 0.9225136955662738, 'reg_alpha': 0.18176625813600678, 'reg_lambda': 1318.3696868860852, 'learning_rate': 0.002647109976875567, 'threshold': 0.5077760808600122}. Best is trial 56 with value: 0.5545634920634921.\n",
      "[I 2024-07-26 18:20:48,004] Trial 70 finished with value: 0.513888888888889 and parameters: {'num_leaves': 90, 'max_depth': 9, 'subsample': 0.5853713645968645, 'colsample_bytree': 0.891655325044148, 'reg_alpha': 0.0009059595731853785, 'reg_lambda': 11.421113670899702, 'learning_rate': 0.0012153245571162275, 'threshold': 0.46925559812347106}. Best is trial 56 with value: 0.5545634920634921.\n",
      "[I 2024-07-26 18:20:50,318] Trial 71 finished with value: 0.513888888888889 and parameters: {'num_leaves': 48, 'max_depth': 10, 'subsample': 0.6020928576994153, 'colsample_bytree': 0.9077975867138725, 'reg_alpha': 0.0002685080756081837, 'reg_lambda': 199.30811955119802, 'learning_rate': 0.005479203716855998, 'threshold': 0.4904093173178513}. Best is trial 56 with value: 0.5545634920634921.\n",
      "[I 2024-07-26 18:20:54,445] Trial 72 finished with value: 0.5486111111111112 and parameters: {'num_leaves': 68, 'max_depth': 8, 'subsample': 0.5688958806074956, 'colsample_bytree': 0.8461505762819664, 'reg_alpha': 0.006498331979023618, 'reg_lambda': 409.5815125075429, 'learning_rate': 0.0038460782159332276, 'threshold': 0.49964870171668907}. Best is trial 56 with value: 0.5545634920634921.\n",
      "[I 2024-07-26 18:20:56,091] Trial 73 finished with value: 0.513888888888889 and parameters: {'num_leaves': 67, 'max_depth': 8, 'subsample': 0.5664972588178592, 'colsample_bytree': 0.8439784767146077, 'reg_alpha': 0.08386627543017455, 'reg_lambda': 539.1289447892847, 'learning_rate': 0.0033350556950847332, 'threshold': 0.5015677794988318}. Best is trial 56 with value: 0.5545634920634921.\n",
      "[I 2024-07-26 18:20:57,986] Trial 74 finished with value: 0.513888888888889 and parameters: {'num_leaves': 107, 'max_depth': 6, 'subsample': 0.5464613626801131, 'colsample_bytree': 0.8685856706723787, 'reg_alpha': 0.0005024034421557848, 'reg_lambda': 70.09159387819393, 'learning_rate': 0.0017817057568062188, 'threshold': 0.48115209953075305}. Best is trial 56 with value: 0.5545634920634921.\n",
      "[I 2024-07-26 18:21:01,979] Trial 75 finished with value: 0.4861111111111111 and parameters: {'num_leaves': 85, 'max_depth': 8, 'subsample': 0.5697558133671539, 'colsample_bytree': 0.9409252703261656, 'reg_alpha': 0.0011895371852536335, 'reg_lambda': 4702.695636871816, 'learning_rate': 0.0010719456346303647, 'threshold': 0.5112554026644411}. Best is trial 56 with value: 0.5545634920634921.\n",
      "[I 2024-07-26 18:21:06,483] Trial 76 finished with value: 0.5148809523809524 and parameters: {'num_leaves': 59, 'max_depth': 9, 'subsample': 0.6563551110381362, 'colsample_bytree': 0.8591078636015576, 'reg_alpha': 0.006164587636363067, 'reg_lambda': 3.69869352698987, 'learning_rate': 0.007373911709700842, 'threshold': 0.5313204344205675}. Best is trial 56 with value: 0.5545634920634921.\n",
      "[I 2024-07-26 18:21:08,919] Trial 77 finished with value: 0.513888888888889 and parameters: {'num_leaves': 96, 'max_depth': 10, 'subsample': 0.5898453410861321, 'colsample_bytree': 0.8024086152513475, 'reg_alpha': 0.003048409023852282, 'reg_lambda': 1062.983166171461, 'learning_rate': 0.004123951118541138, 'threshold': 0.46385636168949035}. Best is trial 56 with value: 0.5545634920634921.\n",
      "[I 2024-07-26 18:21:12,875] Trial 78 finished with value: 0.5327380952380952 and parameters: {'num_leaves': 75, 'max_depth': 10, 'subsample': 0.6186929626379992, 'colsample_bytree': 0.8903865824557101, 'reg_alpha': 0.011688675770652517, 'reg_lambda': 40908.98800082133, 'learning_rate': 0.016924926363796673, 'threshold': 0.5010174786839949}. Best is trial 56 with value: 0.5545634920634921.\n",
      "[I 2024-07-26 18:21:15,586] Trial 79 finished with value: 0.513888888888889 and parameters: {'num_leaves': 66, 'max_depth': 12, 'subsample': 0.7484266393436658, 'colsample_bytree': 0.9775555407926987, 'reg_alpha': 0.01735024423449423, 'reg_lambda': 13607.179815551439, 'learning_rate': 0.014845555866558313, 'threshold': 0.5008155381921537}. Best is trial 56 with value: 0.5545634920634921.\n",
      "[I 2024-07-26 18:21:18,598] Trial 80 finished with value: 0.5238095238095238 and parameters: {'num_leaves': 39, 'max_depth': 10, 'subsample': 0.6206853550606567, 'colsample_bytree': 0.9222344280808528, 'reg_alpha': 0.36636877756527725, 'reg_lambda': 34.39068058237669, 'learning_rate': 0.01652601055332521, 'threshold': 0.4584067664501943}. Best is trial 56 with value: 0.5545634920634921.\n",
      "[I 2024-07-26 18:21:29,300] Trial 81 finished with value: 0.5287698412698413 and parameters: {'num_leaves': 83, 'max_depth': 11, 'subsample': 0.6729004774649835, 'colsample_bytree': 0.8887350701362572, 'reg_alpha': 0.03785238643593897, 'reg_lambda': 15262.976704717552, 'learning_rate': 0.023962551347447316, 'threshold': 0.49315445895511506}. Best is trial 56 with value: 0.5545634920634921.\n",
      "[I 2024-07-26 18:21:42,653] Trial 82 finished with value: 0.5248015873015873 and parameters: {'num_leaves': 88, 'max_depth': 11, 'subsample': 0.6745691148481838, 'colsample_bytree': 0.8870904877694686, 'reg_alpha': 0.050801834135377984, 'reg_lambda': 38811.260582188595, 'learning_rate': 0.03459300521320364, 'threshold': 0.49613365152162353}. Best is trial 56 with value: 0.5545634920634921.\n",
      "[I 2024-07-26 18:21:49,090] Trial 83 finished with value: 0.5248015873015873 and parameters: {'num_leaves': 75, 'max_depth': 10, 'subsample': 0.6642743402925086, 'colsample_bytree': 0.8506273595052686, 'reg_alpha': 0.8003432986357975, 'reg_lambda': 31491.38872671857, 'learning_rate': 0.05724899948442524, 'threshold': 0.4822238892605323}. Best is trial 56 with value: 0.5545634920634921.\n",
      "[I 2024-07-26 18:21:51,673] Trial 84 finished with value: 0.513888888888889 and parameters: {'num_leaves': 115, 'max_depth': 11, 'subsample': 0.6493363587125637, 'colsample_bytree': 0.9527566844140688, 'reg_alpha': 0.025671641521364832, 'reg_lambda': 24298.039108096218, 'learning_rate': 0.023753947946546908, 'threshold': 0.4750245545758476}. Best is trial 56 with value: 0.5545634920634921.\n",
      "[I 2024-07-26 18:21:53,975] Trial 85 finished with value: 0.5357142857142857 and parameters: {'num_leaves': 55, 'max_depth': 9, 'subsample': 0.6990462788713736, 'colsample_bytree': 0.8765014590095296, 'reg_alpha': 0.0074124383207244396, 'reg_lambda': 13.388152429166558, 'learning_rate': 0.02194623061311753, 'threshold': 0.4882802845801524}. Best is trial 56 with value: 0.5545634920634921.\n",
      "[I 2024-07-26 18:21:57,112] Trial 86 finished with value: 0.5347222222222222 and parameters: {'num_leaves': 104, 'max_depth': 12, 'subsample': 0.6999441829447581, 'colsample_bytree': 0.8747114629066887, 'reg_alpha': 1.0099052130359666e-05, 'reg_lambda': 12.536329190911312, 'learning_rate': 0.024641157716068746, 'threshold': 0.5057953852837396}. Best is trial 56 with value: 0.5545634920634921.\n",
      "[I 2024-07-26 18:21:59,849] Trial 87 finished with value: 0.4851190476190476 and parameters: {'num_leaves': 100, 'max_depth': 13, 'subsample': 0.6992808567557331, 'colsample_bytree': 0.8738083126628868, 'reg_alpha': 3.579878517585064e-05, 'reg_lambda': 15.930446064040625, 'learning_rate': 0.060394132045822085, 'threshold': 0.527601029523856}. Best is trial 56 with value: 0.5545634920634921.\n",
      "[I 2024-07-26 18:22:03,163] Trial 88 finished with value: 0.513888888888889 and parameters: {'num_leaves': 123, 'max_depth': 12, 'subsample': 0.712426521334722, 'colsample_bytree': 0.8524871250920117, 'reg_alpha': 1.8568660096920286e-05, 'reg_lambda': 1.251479402583303, 'learning_rate': 0.04699790645130498, 'threshold': 0.5109613430870745}. Best is trial 56 with value: 0.5545634920634921.\n",
      "[I 2024-07-26 18:22:06,531] Trial 89 finished with value: 0.5178571428571429 and parameters: {'num_leaves': 55, 'max_depth': 7, 'subsample': 0.7507654810031003, 'colsample_bytree': 0.778434154630098, 'reg_alpha': 1.1116607776079754e-05, 'reg_lambda': 6.559486481644465, 'learning_rate': 0.006768851093141911, 'threshold': 0.511112422180942}. Best is trial 56 with value: 0.5545634920634921.\n",
      "[I 2024-07-26 18:22:09,084] Trial 90 finished with value: 0.5416666666666666 and parameters: {'num_leaves': 102, 'max_depth': 12, 'subsample': 0.717853637486447, 'colsample_bytree': 0.8359313555690676, 'reg_alpha': 0.00010645630406157179, 'reg_lambda': 106.01647380105726, 'learning_rate': 0.0928335351057128, 'threshold': 0.5029042995892186}. Best is trial 56 with value: 0.5545634920634921.\n",
      "[I 2024-07-26 18:22:11,821] Trial 91 finished with value: 0.5267857142857143 and parameters: {'num_leaves': 93, 'max_depth': 12, 'subsample': 0.7234764412239134, 'colsample_bytree': 0.8357366898912426, 'reg_alpha': 0.00012349075825083582, 'reg_lambda': 116.24772413840104, 'learning_rate': 0.08942840292985485, 'threshold': 0.5030330241476496}. Best is trial 56 with value: 0.5545634920634921.\n",
      "[I 2024-07-26 18:22:15,913] Trial 92 finished with value: 0.5307539682539683 and parameters: {'num_leaves': 105, 'max_depth': 14, 'subsample': 0.768297498787704, 'colsample_bytree': 0.8761304723759508, 'reg_alpha': 5.134101790085864e-05, 'reg_lambda': 45.63765624645675, 'learning_rate': 0.011238461871884143, 'threshold': 0.49088408114540516}. Best is trial 56 with value: 0.5545634920634921.\n",
      "[I 2024-07-26 18:22:19,366] Trial 93 finished with value: 0.5307539682539683 and parameters: {'num_leaves': 104, 'max_depth': 14, 'subsample': 0.7723989555934273, 'colsample_bytree': 0.8704824069848861, 'reg_alpha': 5.6088584017666844e-05, 'reg_lambda': 48.36589798257821, 'learning_rate': 0.03278945670594034, 'threshold': 0.48903031716299755}. Best is trial 56 with value: 0.5545634920634921.\n",
      "[I 2024-07-26 18:22:24,660] Trial 94 finished with value: 0.5337301587301587 and parameters: {'num_leaves': 123, 'max_depth': 13, 'subsample': 0.8018429056527164, 'colsample_bytree': 0.9317646003510458, 'reg_alpha': 1.0597614973763269e-05, 'reg_lambda': 16.933783077865527, 'learning_rate': 0.010615450276872959, 'threshold': 0.5057698989358614}. Best is trial 56 with value: 0.5545634920634921.\n",
      "[I 2024-07-26 18:22:28,104] Trial 95 finished with value: 0.5059523809523809 and parameters: {'num_leaves': 127, 'max_depth': 13, 'subsample': 0.8247035535381658, 'colsample_bytree': 0.8978177437060734, 'reg_alpha': 2.405995316381736e-05, 'reg_lambda': 5.262498034646879, 'learning_rate': 0.04662477322691031, 'threshold': 0.525492709928902}. Best is trial 56 with value: 0.5545634920634921.\n",
      "[I 2024-07-26 18:22:33,114] Trial 96 finished with value: 0.5069444444444444 and parameters: {'num_leaves': 111, 'max_depth': 12, 'subsample': 0.7967998425644343, 'colsample_bytree': 0.9361880667020376, 'reg_alpha': 1.7148846100861197e-05, 'reg_lambda': 14.673974425827554, 'learning_rate': 0.02357366866094591, 'threshold': 0.5152590407490947}. Best is trial 56 with value: 0.5545634920634921.\n",
      "[I 2024-07-26 18:22:40,678] Trial 97 finished with value: 0.5198412698412698 and parameters: {'num_leaves': 134, 'max_depth': 13, 'subsample': 0.6883014747400495, 'colsample_bytree': 0.9164043732526731, 'reg_alpha': 1.1445217087890458e-05, 'reg_lambda': 2.3988930684540457, 'learning_rate': 0.01722290173734222, 'threshold': 0.5065870852948389}. Best is trial 56 with value: 0.5545634920634921.\n",
      "[I 2024-07-26 18:22:43,908] Trial 98 finished with value: 0.5486111111111112 and parameters: {'num_leaves': 79, 'max_depth': 10, 'subsample': 0.8933544910089625, 'colsample_bytree': 0.8094862389039563, 'reg_alpha': 0.00010342071329326084, 'reg_lambda': 296.8150009539153, 'learning_rate': 0.09574185415392031, 'threshold': 0.5013751160962673}. Best is trial 56 with value: 0.5545634920634921.\n",
      "[I 2024-07-26 18:22:46,688] Trial 99 finished with value: 0.5257936507936508 and parameters: {'num_leaves': 143, 'max_depth': 11, 'subsample': 0.9144417672148935, 'colsample_bytree': 0.8070534512776035, 'reg_alpha': 9.03369688520669e-05, 'reg_lambda': 269.6887730353537, 'learning_rate': 0.09645364404930902, 'threshold': 0.4708867439015914}. Best is trial 56 with value: 0.5545634920634921.\n"
     ]
    },
    {
     "name": "stdout",
     "output_type": "stream",
     "text": [
      "Best trial:\n",
      "  Value: 0.5545634920634921\n",
      "  Params: \n",
      "    num_leaves: 75\n",
      "    max_depth: 9\n",
      "    subsample: 0.6444647095886056\n",
      "    colsample_bytree: 0.8667073565079294\n",
      "    reg_alpha: 1.8363582241958352e-05\n",
      "    reg_lambda: 51.58572866199828\n",
      "    learning_rate: 0.0034989494386209533\n",
      "    threshold: 0.49379721159963386\n"
     ]
    }
   ],
   "source": [
    "study = optuna.create_study(direction='maximize', sampler=optuna.samplers.TPESampler(seed=42))\n",
    "study.optimize(objective, n_trials=n_trials)\n",
    "\n",
    "# 最適なパラメータを表示\n",
    "print('Best trial:')\n",
    "trial = study.best_trial\n",
    "print(f'  Value: {trial.value}')\n",
    "print('  Params: ')\n",
    "for key, value in trial.params.items():\n",
    "    print(f'    {key}: {value}')\n",
    "\n",
    "# 最適なパラメータの取得\n",
    "tuned_params = trial.params\n",
    "tuned_iter = int(np.mean(trial_best_iters[trial.number]))"
   ]
  },
  {
   "cell_type": "code",
   "execution_count": 43,
   "metadata": {},
   "outputs": [
    {
     "data": {
      "text/plain": [
       "{'num_leaves': 75,\n",
       " 'max_depth': 9,\n",
       " 'subsample': 0.6444647095886056,\n",
       " 'colsample_bytree': 0.8667073565079294,\n",
       " 'reg_alpha': 1.8363582241958352e-05,\n",
       " 'reg_lambda': 51.58572866199828,\n",
       " 'learning_rate': 0.0034989494386209533,\n",
       " 'threshold': 0.49379721159963386}"
      ]
     },
     "execution_count": 43,
     "metadata": {},
     "output_type": "execute_result"
    }
   ],
   "source": [
    "tuned_params"
   ]
  },
  {
   "cell_type": "code",
   "execution_count": null,
   "metadata": {},
   "outputs": [],
   "source": [
    "iterations"
   ]
  },
  {
   "cell_type": "code",
   "execution_count": 29,
   "metadata": {},
   "outputs": [],
   "source": [
    "from sklearn.ensemble import VotingClassifier\n",
    "from sklearn.metrics import accuracy_score\n",
    "import numpy as np"
   ]
  },
  {
   "cell_type": "code",
   "execution_count": 30,
   "metadata": {},
   "outputs": [
    {
     "name": "stdout",
     "output_type": "stream",
     "text": [
      "Test Score: 0.45161290322580644\n"
     ]
    }
   ],
   "source": [
    "params = {\n",
    "    'num_leaves': 240,\n",
    "    'max_depth': 6,\n",
    "    'subsample': 0.8908349028148492,\n",
    "    'colsample_bytree': 0.6097839084290924,\n",
    "    'reg_alpha': 0.002512266474633023,\n",
    "    'reg_lambda': 17866.170787949755,\n",
    "    'learning_rate': 0.025640685008873333,\n",
    "    'verbosity': -1\n",
    "    }\n",
    "\n",
    "threshold = 0.493797211\n",
    "\n",
    "iteration = 100\n",
    "\n",
    "n_average = 8\n",
    "\n",
    "model = VotingClassifier([\n",
    "    (f'lgbm{i}', lgb.LGBMClassifier(objective='binary', n_estimators=iteration, random_state=42+i, **params)) for i in range(n_average)\n",
    "], voting='soft')\n",
    "\n",
    "df_train = df.filter(pl.col(\"num_week\") < max_week).to_pandas().drop([\"datetime\", \"num_week\"], axis=1)\n",
    "df_test = df.filter(pl.col(\"num_week\") == max_week).to_pandas().drop([\"datetime\", \"num_week\"], axis=1)\n",
    "\n",
    "df_train['target'] = (df_train['target'] > 0).astype(int)\n",
    "df_test['target'] = (df_test['target'] > 0).astype(int)\n",
    "\n",
    "model.fit(df_train.drop(['target'], axis=1), df_train['target'])\n",
    "\n",
    "y_pred_proba = model.predict_proba(df_test.drop(['target'], axis=1))[:, 1]\n",
    "y_pred = (y_pred_proba > threshold).astype(int)\n",
    "\n",
    "test_score = accuracy_score(df_test['target'], y_pred)\n",
    "\n",
    "print(f\"Test Score: {test_score}\")"
   ]
  },
  {
   "cell_type": "code",
   "execution_count": 59,
   "metadata": {},
   "outputs": [
    {
     "name": "stdout",
     "output_type": "stream",
     "text": [
      "Test Score: 0.4946236559139785\n"
     ]
    },
    {
     "data": {
      "text/plain": [
       "array([[20, 31],\n",
       "       [16, 26]])"
      ]
     },
     "execution_count": 59,
     "metadata": {},
     "output_type": "execute_result"
    }
   ],
   "source": [
    "# confusion matrix\n",
    "from sklearn.metrics import confusion_matrix\n",
    "\n",
    "threshold = 0.506\n",
    "y_pred = (y_pred_proba > threshold).astype(int)\n",
    "print(f\"Test Score: {accuracy_score(df_test['target'], y_pred)}\")\n",
    "confusion_matrix(df_test['target'], y_pred)"
   ]
  },
  {
   "cell_type": "markdown",
   "metadata": {},
   "source": [
    "# backtest"
   ]
  },
  {
   "cell_type": "code",
   "execution_count": 73,
   "metadata": {},
   "outputs": [],
   "source": [
    "df_backtest = df_copy.filter(pl.col(\"num_week\").shift() == max_week)"
   ]
  },
  {
   "cell_type": "code",
   "execution_count": 76,
   "metadata": {},
   "outputs": [],
   "source": [
    "df_market = pl.read_csv(\"data.csv\")\n",
    "df_market = df_market.with_columns(pl.col(\"datetime\").str.to_datetime(format=\"%Y-%m-%d %H:%M:%S\"))"
   ]
  },
  {
   "cell_type": "code",
   "execution_count": 78,
   "metadata": {},
   "outputs": [],
   "source": [
    "# df_maketとdf_backtestをdatetimeで結合\n",
    "df_backtest = df_backtest.join(df_market, on=\"datetime\", how=\"inner\")"
   ]
  },
  {
   "cell_type": "code",
   "execution_count": 91,
   "metadata": {},
   "outputs": [],
   "source": [
    "# y_predを追加\n",
    "df_backtest = df_backtest.with_columns(\n",
    "    pl.Series(y_pred, dtype=pl.Float32).alias(\"y_pred\")\n",
    ")"
   ]
  },
  {
   "cell_type": "code",
   "execution_count": 99,
   "metadata": {},
   "outputs": [],
   "source": [
    "profits = []\n",
    "bet = 100000\n",
    "\n",
    "for i in range(len(df_backtest)):\n",
    "    position = 1 if df_backtest[\"y_pred\"][i] == 0 else -1\n",
    "    profit = position * (df_backtest[\"close\"][i] - df_backtest[\"open\"][i]) / df_backtest[\"open\"][i] * bet - 0.00075 * bet\n",
    "    profits.append(profit)\n"
   ]
  },
  {
   "cell_type": "code",
   "execution_count": 100,
   "metadata": {},
   "outputs": [],
   "source": [
    "accumulated_profits = [sum(profits[:i]) for i in range(1, len(profits) + 1)]"
   ]
  },
  {
   "cell_type": "code",
   "execution_count": 101,
   "metadata": {},
   "outputs": [
    {
     "data": {
      "text/plain": [
       "[<matplotlib.lines.Line2D at 0x34ab53250>]"
      ]
     },
     "execution_count": 101,
     "metadata": {},
     "output_type": "execute_result"
    },
    {
     "data": {
      "image/png": "[encoded data removed]",
      "text/plain": [
       "<Figure size 640x480 with 1 Axes>"
      ]
     },
     "metadata": {},
     "output_type": "display_data"
    }
   ],
   "source": [
    "import matplotlib.pyplot as plt\n",
    "\n",
    "# 折れ線グラフでプロット\n",
    "plt.plot(accumulated_profits)"
   ]
  }
 ],
 "metadata": {
  "kernelspec": {
   "display_name": "botter",
   "language": "python",
   "name": "python3"
  },
  "language_info": {
   "codemirror_mode": {
    "name": "ipython",
    "version": 3
   },
   "file_extension": ".py",
   "mimetype": "text/x-python",
   "name": "python",
   "nbconvert_exporter": "python",
   "pygments_lexer": "ipython3",
   "version": "3.9.16"
  }
 },
 "nbformat": 4,
 "nbformat_minor": 2
}
